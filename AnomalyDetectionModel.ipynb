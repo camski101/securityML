{
  "nbformat": 4,
  "nbformat_minor": 0,
  "metadata": {
    "colab": {
      "provenance": [],
      "authorship_tag": "ABX9TyPzgIo7u+D/CY+BjzEi0T89",
      "include_colab_link": true
    },
    "kernelspec": {
      "name": "python3",
      "display_name": "Python 3"
    },
    "language_info": {
      "name": "python"
    }
  },
  "cells": [
    {
      "cell_type": "markdown",
      "metadata": {
        "id": "view-in-github",
        "colab_type": "text"
      },
      "source": [
        "<a href=\"https://colab.research.google.com/github/camski101/securityML/blob/main/AnomalyDetectionModel.ipynb\" target=\"_parent\"><img src=\"https://colab.research.google.com/assets/colab-badge.svg\" alt=\"Open In Colab\"/></a>"
      ]
    },
    {
      "cell_type": "markdown",
      "source": [
        "**Summary**\n",
        "\n",
        "1. Data: I used the NSL-KDD dataset, which is commonly used for network intrusion detection tasks. This dataset contains various features derived from network traffic, labeled as either normal or anomalous.\n",
        "  - Examples: basic features (e.g., duration of the connection), content features (e.g., number of failed login attempts), and traffic features (e.g., number of connections to the same host).\n",
        "2. Preprocessing\n",
        "3. Model Selection\n",
        "  - Isolation Forrest: I chose this model because it's commonly used for anomaly detection. It works by isolating observations through random feature selection and random selection of a split value between the min/max.\n",
        "4. Model Training & Performance\n",
        "5. Threshold Adjustment\n",
        "6. Detailed Metrics and Visualization\n",
        "7. Fine-Tuning and Retesting\n",
        "  - Parameter Tuning: Parameters of the Isolation Forest model such as n_estimators, max_samples, and contamination were tuned using methods like grid search to find the best combination of parameters that maximized model performance.\n",
        "8. Operational Implementation\n",
        "  - Based on my analysis I determined the best threhold for this dataset is 0.05\n",
        "9. Results:\n",
        "\n",
        "  - An anomoly detection model with:\n",
        "Precision for Anomalies: 0.72\n",
        "Recall for Anomalies: 0.39\n",
        "F1-Score for Anomalies: 0.50\n",
        "Overall Accuracy: 0.64\n",
        "\n",
        "**Compared with our original version of:\n",
        "Previous Results:\n",
        "Precision for Anomalies: 0.73\n",
        "Recall for Anomalies: 0.08\n",
        "F1-Score for Anomalies: 0.14\n",
        "Overall Accuracy: 0.54\n"
      ],
      "metadata": {
        "id": "SlmAbr5r21wP"
      }
    },
    {
      "cell_type": "code",
      "execution_count": 1,
      "metadata": {
        "colab": {
          "base_uri": "https://localhost:8080/"
        },
        "id": "bOChXf-gAvq_",
        "outputId": "d2356046-9574-4745-bc1c-af558db047e9"
      },
      "outputs": [
        {
          "output_type": "stream",
          "name": "stdout",
          "text": [
            "   0  tcp ftp_data   SF  491   0.1  0.2  0.3  0.4  0.5  ...  0.17  0.03  \\\n",
            "0  0  udp    other   SF  146     0    0    0    0    0  ...  0.00  0.60   \n",
            "1  0  tcp  private   S0    0     0    0    0    0    0  ...  0.10  0.05   \n",
            "2  0  tcp     http   SF  232  8153    0    0    0    0  ...  1.00  0.00   \n",
            "3  0  tcp     http   SF  199   420    0    0    0    0  ...  1.00  0.00   \n",
            "4  0  tcp  private  REJ    0     0    0    0    0    0  ...  0.07  0.07   \n",
            "\n",
            "   0.17.1  0.25  0.26  0.27  0.05  0.28   normal  20  \n",
            "0    0.88  0.00  0.00  0.00   0.0  0.00   normal  15  \n",
            "1    0.00  0.00  1.00  1.00   0.0  0.00  neptune  19  \n",
            "2    0.03  0.04  0.03  0.01   0.0  0.01   normal  21  \n",
            "3    0.00  0.00  0.00  0.00   0.0  0.00   normal  21  \n",
            "4    0.00  0.00  0.00  0.00   1.0  1.00  neptune  21  \n",
            "\n",
            "[5 rows x 43 columns]\n"
          ]
        }
      ],
      "source": [
        "# Importing necessary libraries\n",
        "import pandas as pd\n",
        "import numpy as np\n",
        "from sklearn.model_selection import train_test_split\n",
        "from sklearn.preprocessing import StandardScaler\n",
        "from sklearn.ensemble import IsolationForest\n",
        "\n",
        "# Load the dataset\n",
        "url = \"https://raw.githubusercontent.com/defcom17/NSL_KDD/master/KDDTrain%2B.csv\"\n",
        "data = pd.read_csv(url)\n",
        "\n",
        "# Display the first few rows of the dataset\n",
        "print(data.head())\n"
      ]
    },
    {
      "cell_type": "code",
      "source": [
        "# Check for missing values\n",
        "print(data.isnull().sum())\n",
        "\n",
        "# Get a summary of the dataset\n",
        "print(data.describe())\n",
        "\n",
        "# Check the balance of the data regarding normal and attack classes\n",
        "print(data['label'].value_counts())\n"
      ],
      "metadata": {
        "colab": {
          "base_uri": "https://localhost:8080/",
          "height": 1000
        },
        "id": "AZr7wNRIA-Wn",
        "outputId": "5c008531-6f12-4503-baac-c9fd501fe3b3"
      },
      "execution_count": 2,
      "outputs": [
        {
          "output_type": "stream",
          "name": "stdout",
          "text": [
            "0           0\n",
            "tcp         0\n",
            "ftp_data    0\n",
            "SF          0\n",
            "491         0\n",
            "0.1         0\n",
            "0.2         0\n",
            "0.3         0\n",
            "0.4         0\n",
            "0.5         0\n",
            "0.6         0\n",
            "0.7         0\n",
            "0.8         0\n",
            "0.9         0\n",
            "0.10        0\n",
            "0.11        0\n",
            "0.12        0\n",
            "0.13        0\n",
            "0.14        0\n",
            "0.15        0\n",
            "0.16        0\n",
            "0.18        0\n",
            "2           0\n",
            "2.1         0\n",
            "0.19        0\n",
            "0.20        0\n",
            "0.21        0\n",
            "0.22        0\n",
            "1           0\n",
            "0.23        0\n",
            "0.24        0\n",
            "150         0\n",
            "25          0\n",
            "0.17        0\n",
            "0.03        0\n",
            "0.17.1      0\n",
            "0.25        0\n",
            "0.26        0\n",
            "0.27        0\n",
            "0.05        0\n",
            "0.28        0\n",
            "normal      0\n",
            "20          0\n",
            "dtype: int64\n",
            "                   0           491           0.1            0.2  \\\n",
            "count  125972.000000  1.259720e+05  1.259720e+05  125972.000000   \n",
            "mean      287.146929  4.556710e+04  1.977927e+04       0.000198   \n",
            "std      2604.525522  5.870354e+06  4.021285e+06       0.014086   \n",
            "min         0.000000  0.000000e+00  0.000000e+00       0.000000   \n",
            "25%         0.000000  0.000000e+00  0.000000e+00       0.000000   \n",
            "50%         0.000000  4.400000e+01  0.000000e+00       0.000000   \n",
            "75%         0.000000  2.760000e+02  5.160000e+02       0.000000   \n",
            "max     42908.000000  1.379964e+09  1.309937e+09       1.000000   \n",
            "\n",
            "                 0.3            0.4            0.5            0.6  \\\n",
            "count  125972.000000  125972.000000  125972.000000  125972.000000   \n",
            "mean        0.022688       0.000111       0.204411       0.001222   \n",
            "std         0.253531       0.014366       2.149977       0.045239   \n",
            "min         0.000000       0.000000       0.000000       0.000000   \n",
            "25%         0.000000       0.000000       0.000000       0.000000   \n",
            "50%         0.000000       0.000000       0.000000       0.000000   \n",
            "75%         0.000000       0.000000       0.000000       0.000000   \n",
            "max         3.000000       3.000000      77.000000       5.000000   \n",
            "\n",
            "                 0.7            0.8  ...             25           0.17  \\\n",
            "count  125972.000000  125972.000000  ...  125972.000000  125972.000000   \n",
            "mean        0.395739       0.279253  ...     115.653725       0.521244   \n",
            "std         0.489011      23.942137  ...     110.702886       0.448950   \n",
            "min         0.000000       0.000000  ...       0.000000       0.000000   \n",
            "25%         0.000000       0.000000  ...      10.000000       0.050000   \n",
            "50%         0.000000       0.000000  ...      63.000000       0.510000   \n",
            "75%         1.000000       0.000000  ...     255.000000       1.000000   \n",
            "max         1.000000    7479.000000  ...     255.000000       1.000000   \n",
            "\n",
            "                0.03         0.17.1           0.25           0.26  \\\n",
            "count  125972.000000  125972.000000  125972.000000  125972.000000   \n",
            "mean        0.082952       0.148379       0.032543       0.284455   \n",
            "std         0.188922       0.308998       0.112564       0.444785   \n",
            "min         0.000000       0.000000       0.000000       0.000000   \n",
            "25%         0.000000       0.000000       0.000000       0.000000   \n",
            "50%         0.020000       0.000000       0.000000       0.000000   \n",
            "75%         0.070000       0.060000       0.020000       1.000000   \n",
            "max         1.000000       1.000000       1.000000       1.000000   \n",
            "\n",
            "                0.27           0.05           0.28             20  \n",
            "count  125972.000000  125972.000000  125972.000000  125972.000000  \n",
            "mean        0.278487       0.118832       0.120241      19.504056  \n",
            "std         0.445670       0.306559       0.319460       2.291512  \n",
            "min         0.000000       0.000000       0.000000       0.000000  \n",
            "25%         0.000000       0.000000       0.000000      18.000000  \n",
            "50%         0.000000       0.000000       0.000000      20.000000  \n",
            "75%         1.000000       0.000000       0.000000      21.000000  \n",
            "max         1.000000       1.000000       1.000000      21.000000  \n",
            "\n",
            "[8 rows x 39 columns]\n"
          ]
        },
        {
          "output_type": "error",
          "ename": "KeyError",
          "evalue": "'label'",
          "traceback": [
            "\u001b[0;31m---------------------------------------------------------------------------\u001b[0m",
            "\u001b[0;31mKeyError\u001b[0m                                  Traceback (most recent call last)",
            "\u001b[0;32m/usr/local/lib/python3.10/dist-packages/pandas/core/indexes/base.py\u001b[0m in \u001b[0;36mget_loc\u001b[0;34m(self, key)\u001b[0m\n\u001b[1;32m   3652\u001b[0m         \u001b[0;32mtry\u001b[0m\u001b[0;34m:\u001b[0m\u001b[0;34m\u001b[0m\u001b[0;34m\u001b[0m\u001b[0m\n\u001b[0;32m-> 3653\u001b[0;31m             \u001b[0;32mreturn\u001b[0m \u001b[0mself\u001b[0m\u001b[0;34m.\u001b[0m\u001b[0m_engine\u001b[0m\u001b[0;34m.\u001b[0m\u001b[0mget_loc\u001b[0m\u001b[0;34m(\u001b[0m\u001b[0mcasted_key\u001b[0m\u001b[0;34m)\u001b[0m\u001b[0;34m\u001b[0m\u001b[0;34m\u001b[0m\u001b[0m\n\u001b[0m\u001b[1;32m   3654\u001b[0m         \u001b[0;32mexcept\u001b[0m \u001b[0mKeyError\u001b[0m \u001b[0;32mas\u001b[0m \u001b[0merr\u001b[0m\u001b[0;34m:\u001b[0m\u001b[0;34m\u001b[0m\u001b[0;34m\u001b[0m\u001b[0m\n",
            "\u001b[0;32m/usr/local/lib/python3.10/dist-packages/pandas/_libs/index.pyx\u001b[0m in \u001b[0;36mpandas._libs.index.IndexEngine.get_loc\u001b[0;34m()\u001b[0m\n",
            "\u001b[0;32m/usr/local/lib/python3.10/dist-packages/pandas/_libs/index.pyx\u001b[0m in \u001b[0;36mpandas._libs.index.IndexEngine.get_loc\u001b[0;34m()\u001b[0m\n",
            "\u001b[0;32mpandas/_libs/hashtable_class_helper.pxi\u001b[0m in \u001b[0;36mpandas._libs.hashtable.PyObjectHashTable.get_item\u001b[0;34m()\u001b[0m\n",
            "\u001b[0;32mpandas/_libs/hashtable_class_helper.pxi\u001b[0m in \u001b[0;36mpandas._libs.hashtable.PyObjectHashTable.get_item\u001b[0;34m()\u001b[0m\n",
            "\u001b[0;31mKeyError\u001b[0m: 'label'",
            "\nThe above exception was the direct cause of the following exception:\n",
            "\u001b[0;31mKeyError\u001b[0m                                  Traceback (most recent call last)",
            "\u001b[0;32m<ipython-input-2-53d73977cb41>\u001b[0m in \u001b[0;36m<cell line: 8>\u001b[0;34m()\u001b[0m\n\u001b[1;32m      6\u001b[0m \u001b[0;34m\u001b[0m\u001b[0m\n\u001b[1;32m      7\u001b[0m \u001b[0;31m# Check the balance of the data regarding normal and attack classes\u001b[0m\u001b[0;34m\u001b[0m\u001b[0;34m\u001b[0m\u001b[0m\n\u001b[0;32m----> 8\u001b[0;31m \u001b[0mprint\u001b[0m\u001b[0;34m(\u001b[0m\u001b[0mdata\u001b[0m\u001b[0;34m[\u001b[0m\u001b[0;34m'label'\u001b[0m\u001b[0;34m]\u001b[0m\u001b[0;34m.\u001b[0m\u001b[0mvalue_counts\u001b[0m\u001b[0;34m(\u001b[0m\u001b[0;34m)\u001b[0m\u001b[0;34m)\u001b[0m\u001b[0;34m\u001b[0m\u001b[0;34m\u001b[0m\u001b[0m\n\u001b[0m",
            "\u001b[0;32m/usr/local/lib/python3.10/dist-packages/pandas/core/frame.py\u001b[0m in \u001b[0;36m__getitem__\u001b[0;34m(self, key)\u001b[0m\n\u001b[1;32m   3759\u001b[0m             \u001b[0;32mif\u001b[0m \u001b[0mself\u001b[0m\u001b[0;34m.\u001b[0m\u001b[0mcolumns\u001b[0m\u001b[0;34m.\u001b[0m\u001b[0mnlevels\u001b[0m \u001b[0;34m>\u001b[0m \u001b[0;36m1\u001b[0m\u001b[0;34m:\u001b[0m\u001b[0;34m\u001b[0m\u001b[0;34m\u001b[0m\u001b[0m\n\u001b[1;32m   3760\u001b[0m                 \u001b[0;32mreturn\u001b[0m \u001b[0mself\u001b[0m\u001b[0;34m.\u001b[0m\u001b[0m_getitem_multilevel\u001b[0m\u001b[0;34m(\u001b[0m\u001b[0mkey\u001b[0m\u001b[0;34m)\u001b[0m\u001b[0;34m\u001b[0m\u001b[0;34m\u001b[0m\u001b[0m\n\u001b[0;32m-> 3761\u001b[0;31m             \u001b[0mindexer\u001b[0m \u001b[0;34m=\u001b[0m \u001b[0mself\u001b[0m\u001b[0;34m.\u001b[0m\u001b[0mcolumns\u001b[0m\u001b[0;34m.\u001b[0m\u001b[0mget_loc\u001b[0m\u001b[0;34m(\u001b[0m\u001b[0mkey\u001b[0m\u001b[0;34m)\u001b[0m\u001b[0;34m\u001b[0m\u001b[0;34m\u001b[0m\u001b[0m\n\u001b[0m\u001b[1;32m   3762\u001b[0m             \u001b[0;32mif\u001b[0m \u001b[0mis_integer\u001b[0m\u001b[0;34m(\u001b[0m\u001b[0mindexer\u001b[0m\u001b[0;34m)\u001b[0m\u001b[0;34m:\u001b[0m\u001b[0;34m\u001b[0m\u001b[0;34m\u001b[0m\u001b[0m\n\u001b[1;32m   3763\u001b[0m                 \u001b[0mindexer\u001b[0m \u001b[0;34m=\u001b[0m \u001b[0;34m[\u001b[0m\u001b[0mindexer\u001b[0m\u001b[0;34m]\u001b[0m\u001b[0;34m\u001b[0m\u001b[0;34m\u001b[0m\u001b[0m\n",
            "\u001b[0;32m/usr/local/lib/python3.10/dist-packages/pandas/core/indexes/base.py\u001b[0m in \u001b[0;36mget_loc\u001b[0;34m(self, key)\u001b[0m\n\u001b[1;32m   3653\u001b[0m             \u001b[0;32mreturn\u001b[0m \u001b[0mself\u001b[0m\u001b[0;34m.\u001b[0m\u001b[0m_engine\u001b[0m\u001b[0;34m.\u001b[0m\u001b[0mget_loc\u001b[0m\u001b[0;34m(\u001b[0m\u001b[0mcasted_key\u001b[0m\u001b[0;34m)\u001b[0m\u001b[0;34m\u001b[0m\u001b[0;34m\u001b[0m\u001b[0m\n\u001b[1;32m   3654\u001b[0m         \u001b[0;32mexcept\u001b[0m \u001b[0mKeyError\u001b[0m \u001b[0;32mas\u001b[0m \u001b[0merr\u001b[0m\u001b[0;34m:\u001b[0m\u001b[0;34m\u001b[0m\u001b[0;34m\u001b[0m\u001b[0m\n\u001b[0;32m-> 3655\u001b[0;31m             \u001b[0;32mraise\u001b[0m \u001b[0mKeyError\u001b[0m\u001b[0;34m(\u001b[0m\u001b[0mkey\u001b[0m\u001b[0;34m)\u001b[0m \u001b[0;32mfrom\u001b[0m \u001b[0merr\u001b[0m\u001b[0;34m\u001b[0m\u001b[0;34m\u001b[0m\u001b[0m\n\u001b[0m\u001b[1;32m   3656\u001b[0m         \u001b[0;32mexcept\u001b[0m \u001b[0mTypeError\u001b[0m\u001b[0;34m:\u001b[0m\u001b[0;34m\u001b[0m\u001b[0;34m\u001b[0m\u001b[0m\n\u001b[1;32m   3657\u001b[0m             \u001b[0;31m# If we have a listlike key, _check_indexing_error will raise\u001b[0m\u001b[0;34m\u001b[0m\u001b[0;34m\u001b[0m\u001b[0m\n",
            "\u001b[0;31mKeyError\u001b[0m: 'label'"
          ]
        }
      ]
    },
    {
      "cell_type": "code",
      "source": [
        "# Print column names\n",
        "print(data.columns)\n"
      ],
      "metadata": {
        "colab": {
          "base_uri": "https://localhost:8080/"
        },
        "id": "Sm0aO4F1BUsH",
        "outputId": "838b725e-2195-4f95-d26a-8543efdb6926"
      },
      "execution_count": 3,
      "outputs": [
        {
          "output_type": "stream",
          "name": "stdout",
          "text": [
            "Index(['0', 'tcp', 'ftp_data', 'SF', '491', '0.1', '0.2', '0.3', '0.4', '0.5',\n",
            "       '0.6', '0.7', '0.8', '0.9', '0.10', '0.11', '0.12', '0.13', '0.14',\n",
            "       '0.15', '0.16', '0.18', '2', '2.1', '0.19', '0.20', '0.21', '0.22', '1',\n",
            "       '0.23', '0.24', '150', '25', '0.17', '0.03', '0.17.1', '0.25', '0.26',\n",
            "       '0.27', '0.05', '0.28', 'normal', '20'],\n",
            "      dtype='object')\n"
          ]
        }
      ]
    },
    {
      "cell_type": "code",
      "source": [
        "# Renaming the columns for clarity (you might need to adjust based on your dataset's documentation)\n",
        "column_names = ['duration', 'protocol_type', 'service', 'flag', 'src_bytes', 'dst_bytes',\n",
        "                'land', 'wrong_fragment', 'urgent', 'hot', 'num_failed_logins',\n",
        "                'logged_in', 'num_compromised', 'root_shell', 'su_attempted',\n",
        "                'num_root', 'num_file_creations', 'num_shells', 'num_access_files',\n",
        "                'num_outbound_cmds', 'is_host_login', 'is_guest_login', 'count',\n",
        "                'srv_count', 'serror_rate', 'srv_serror_rate', 'rerror_rate', 'srv_rerror_rate',\n",
        "                'same_srv_rate', 'diff_srv_rate', 'srv_diff_host_rate', 'dst_host_count',\n",
        "                'dst_host_srv_count', 'dst_host_same_srv_rate', 'dst_host_diff_srv_rate',\n",
        "                'dst_host_same_src_port_rate', 'dst_host_srv_diff_host_rate', 'dst_host_serror_rate',\n",
        "                'dst_host_srv_serror_rate', 'dst_host_rerror_rate', 'dst_host_srv_rerror_rate',\n",
        "                'label', 'difficulty_level']\n",
        "\n",
        "data.columns = column_names\n",
        "\n",
        "# Now continue with the data preprocessing\n",
        "# Check for missing values\n",
        "print(data.isnull().sum())\n",
        "\n",
        "# Encode categorical features (if they are in string format)\n",
        "categorical_features = ['protocol_type', 'service', 'flag']\n",
        "data = pd.get_dummies(data, columns=categorical_features)\n",
        "\n",
        "# Example: Scaling features (assuming 'label' and 'difficulty_level' are to be excluded)\n",
        "from sklearn.preprocessing import StandardScaler\n",
        "scaler = StandardScaler()\n",
        "features_to_scale = data.drop(['label', 'difficulty_level'], axis=1)\n",
        "scaled_features = scaler.fit_transform(features_to_scale)\n",
        "data_scaled = pd.DataFrame(scaled_features, columns=features_to_scale.columns)\n",
        "\n",
        "# Continue with your analysis\n"
      ],
      "metadata": {
        "colab": {
          "base_uri": "https://localhost:8080/"
        },
        "id": "XLsGaF0nBfjq",
        "outputId": "b9ccfa0b-74e6-470e-cff5-8ee4d0bd42c6"
      },
      "execution_count": 4,
      "outputs": [
        {
          "output_type": "stream",
          "name": "stdout",
          "text": [
            "duration                       0\n",
            "protocol_type                  0\n",
            "service                        0\n",
            "flag                           0\n",
            "src_bytes                      0\n",
            "dst_bytes                      0\n",
            "land                           0\n",
            "wrong_fragment                 0\n",
            "urgent                         0\n",
            "hot                            0\n",
            "num_failed_logins              0\n",
            "logged_in                      0\n",
            "num_compromised                0\n",
            "root_shell                     0\n",
            "su_attempted                   0\n",
            "num_root                       0\n",
            "num_file_creations             0\n",
            "num_shells                     0\n",
            "num_access_files               0\n",
            "num_outbound_cmds              0\n",
            "is_host_login                  0\n",
            "is_guest_login                 0\n",
            "count                          0\n",
            "srv_count                      0\n",
            "serror_rate                    0\n",
            "srv_serror_rate                0\n",
            "rerror_rate                    0\n",
            "srv_rerror_rate                0\n",
            "same_srv_rate                  0\n",
            "diff_srv_rate                  0\n",
            "srv_diff_host_rate             0\n",
            "dst_host_count                 0\n",
            "dst_host_srv_count             0\n",
            "dst_host_same_srv_rate         0\n",
            "dst_host_diff_srv_rate         0\n",
            "dst_host_same_src_port_rate    0\n",
            "dst_host_srv_diff_host_rate    0\n",
            "dst_host_serror_rate           0\n",
            "dst_host_srv_serror_rate       0\n",
            "dst_host_rerror_rate           0\n",
            "dst_host_srv_rerror_rate       0\n",
            "label                          0\n",
            "difficulty_level               0\n",
            "dtype: int64\n"
          ]
        }
      ]
    },
    {
      "cell_type": "code",
      "source": [
        "# Split data into train and test sets\n",
        "X_train, X_test, y_train, y_test = train_test_split(data_scaled, data['label'], test_size=0.2, random_state=42)\n",
        "\n",
        "# Initialize and fit the Isolation Forest model\n",
        "model = IsolationForest(n_estimators=100, max_samples='auto', contamination=float(.12), random_state=42)\n",
        "model.fit(X_train)\n",
        "\n",
        "# Make predictions\n",
        "predictions = model.predict(X_test)\n"
      ],
      "metadata": {
        "colab": {
          "base_uri": "https://localhost:8080/"
        },
        "id": "KY4ctuu9BsXq",
        "outputId": "e547f2a8-3f8e-4de6-f639-1c0adb41cd59"
      },
      "execution_count": 5,
      "outputs": [
        {
          "output_type": "stream",
          "name": "stderr",
          "text": [
            "/usr/local/lib/python3.10/dist-packages/sklearn/base.py:439: UserWarning: X does not have valid feature names, but IsolationForest was fitted with feature names\n",
            "  warnings.warn(\n"
          ]
        }
      ]
    },
    {
      "cell_type": "code",
      "source": [
        "# Assuming data has already been encoded with pd.get_dummies\n",
        "# and 'label' is your target variable\n",
        "\n",
        "# Scale features\n",
        "scaler = StandardScaler()\n",
        "features_to_scale = data.drop(['label'], axis=1)  # Drop label for scaling\n",
        "scaled_features = scaler.fit_transform(features_to_scale)\n",
        "\n",
        "# Create a new DataFrame with the correct column names\n",
        "data_scaled = pd.DataFrame(scaled_features, columns=features_to_scale.columns)\n"
      ],
      "metadata": {
        "id": "V9qYjsz-CEtY"
      },
      "execution_count": 6,
      "outputs": []
    },
    {
      "cell_type": "code",
      "source": [
        "# Split data into features and target\n",
        "X = data_scaled\n",
        "y = data['label']  # Adjust if 'label' is not the correct column name\n",
        "\n",
        "# Split data into train and test sets\n",
        "from sklearn.model_selection import train_test_split\n",
        "X_train, X_test, y_train, y_test = train_test_split(X, y, test_size=0.2, random_state=42)\n",
        "\n",
        "# Initialize and fit the Isolation Forest model\n",
        "from sklearn.ensemble import IsolationForest\n",
        "model = IsolationForest(n_estimators=100, max_samples='auto', contamination=float(.12), random_state=42)\n",
        "model.fit(X_train)\n",
        "\n",
        "# Predict on the test set\n",
        "predictions = model.predict(X_test)\n"
      ],
      "metadata": {
        "colab": {
          "base_uri": "https://localhost:8080/"
        },
        "id": "kx6Cp0JnCG3c",
        "outputId": "b7e39db6-75f2-442c-ef93-acf2fb1e9e3c"
      },
      "execution_count": 7,
      "outputs": [
        {
          "output_type": "stream",
          "name": "stderr",
          "text": [
            "/usr/local/lib/python3.10/dist-packages/sklearn/base.py:439: UserWarning: X does not have valid feature names, but IsolationForest was fitted with feature names\n",
            "  warnings.warn(\n"
          ]
        }
      ]
    },
    {
      "cell_type": "code",
      "source": [
        "# After encoding and before scaling\n",
        "print(data.columns)\n",
        "\n",
        "# After scaling\n",
        "data_scaled = pd.DataFrame(scaled_features, columns=features_to_scale.columns)\n",
        "print(data_scaled.columns)\n"
      ],
      "metadata": {
        "colab": {
          "base_uri": "https://localhost:8080/"
        },
        "id": "0La4ZP5QCRzU",
        "outputId": "121bc52f-a501-419d-8ca6-b8876d5bebfa"
      },
      "execution_count": 8,
      "outputs": [
        {
          "output_type": "stream",
          "name": "stdout",
          "text": [
            "Index(['duration', 'src_bytes', 'dst_bytes', 'land', 'wrong_fragment',\n",
            "       'urgent', 'hot', 'num_failed_logins', 'logged_in', 'num_compromised',\n",
            "       ...\n",
            "       'flag_REJ', 'flag_RSTO', 'flag_RSTOS0', 'flag_RSTR', 'flag_S0',\n",
            "       'flag_S1', 'flag_S2', 'flag_S3', 'flag_SF', 'flag_SH'],\n",
            "      dtype='object', length=124)\n",
            "Index(['duration', 'src_bytes', 'dst_bytes', 'land', 'wrong_fragment',\n",
            "       'urgent', 'hot', 'num_failed_logins', 'logged_in', 'num_compromised',\n",
            "       ...\n",
            "       'flag_REJ', 'flag_RSTO', 'flag_RSTOS0', 'flag_RSTR', 'flag_S0',\n",
            "       'flag_S1', 'flag_S2', 'flag_S3', 'flag_SF', 'flag_SH'],\n",
            "      dtype='object', length=123)\n"
          ]
        }
      ]
    },
    {
      "cell_type": "code",
      "source": [
        "from sklearn.model_selection import train_test_split\n",
        "\n",
        "# Split your data first\n",
        "X = data.drop('label', axis=1)\n",
        "y = data['label']\n",
        "X_train, X_test, y_train, y_test = train_test_split(X, y, test_size=0.2, random_state=42)\n",
        "\n",
        "# Apply pd.get_dummies to the training data\n",
        "X_train_encoded = pd.get_dummies(X_train)\n",
        "\n",
        "# Apply the same transformation to the test data\n",
        "X_test_encoded = pd.get_dummies(X_test)\n",
        "\n",
        "# Ensure both dataframes have the same dummy columns\n",
        "X_train_encoded, X_test_encoded = X_train_encoded.align(X_test_encoded, join='outer', axis=1, fill_value=0)\n"
      ],
      "metadata": {
        "id": "V3EOM1-qCb8R"
      },
      "execution_count": 9,
      "outputs": []
    },
    {
      "cell_type": "code",
      "source": [
        "from sklearn.preprocessing import StandardScaler\n",
        "\n",
        "scaler = StandardScaler()\n",
        "\n",
        "# Fit and transform the training data\n",
        "X_train_scaled = scaler.fit_transform(X_train_encoded)\n",
        "X_train_scaled = pd.DataFrame(X_train_scaled, columns=X_train_encoded.columns)\n",
        "\n",
        "# Transform the testing data using the same scaler\n",
        "X_test_scaled = scaler.transform(X_test_encoded)\n",
        "X_test_scaled = pd.DataFrame(X_test_scaled, columns=X_test_encoded.columns)\n"
      ],
      "metadata": {
        "id": "DCEFbYkKCd7b"
      },
      "execution_count": 10,
      "outputs": []
    },
    {
      "cell_type": "code",
      "source": [
        "from sklearn.ensemble import IsolationForest\n",
        "\n",
        "# Initialize and fit the Isolation Forest model\n",
        "model = IsolationForest(n_estimators=100, max_samples='auto', contamination=float(.12), random_state=42)\n",
        "model.fit(X_train_scaled)\n",
        "\n",
        "# Predict on the test set\n",
        "predictions = model.predict(X_test_scaled)\n"
      ],
      "metadata": {
        "colab": {
          "base_uri": "https://localhost:8080/"
        },
        "id": "6zfNjx2FCgkU",
        "outputId": "659c5813-987d-46e4-f80e-3adc1fb8154e"
      },
      "execution_count": 11,
      "outputs": [
        {
          "output_type": "stream",
          "name": "stderr",
          "text": [
            "/usr/local/lib/python3.10/dist-packages/sklearn/base.py:439: UserWarning: X does not have valid feature names, but IsolationForest was fitted with feature names\n",
            "  warnings.warn(\n"
          ]
        }
      ]
    },
    {
      "cell_type": "code",
      "source": [
        "# Define feature names explicitly when creating DataFrames\n",
        "X_train_scaled = pd.DataFrame(X_train_scaled, columns=X_train_encoded.columns)\n",
        "X_test_scaled = pd.DataFrame(X_test_scaled, columns=X_test_encoded.columns)\n",
        "\n",
        "# Fit the model\n",
        "model.fit(X_train_scaled)\n",
        "\n",
        "# Predict on the test set\n",
        "predictions = model.predict(X_test_scaled)\n"
      ],
      "metadata": {
        "colab": {
          "base_uri": "https://localhost:8080/"
        },
        "id": "HxgY7mrGCt8y",
        "outputId": "0a4df847-3753-46e1-80ad-2874a736d1a2"
      },
      "execution_count": 12,
      "outputs": [
        {
          "output_type": "stream",
          "name": "stderr",
          "text": [
            "/usr/local/lib/python3.10/dist-packages/sklearn/base.py:439: UserWarning: X does not have valid feature names, but IsolationForest was fitted with feature names\n",
            "  warnings.warn(\n"
          ]
        }
      ]
    },
    {
      "cell_type": "code",
      "source": [
        "from sklearn.compose import ColumnTransformer\n",
        "from sklearn.pipeline import Pipeline\n",
        "from sklearn.preprocessing import OneHotEncoder, StandardScaler\n",
        "\n",
        "# Define preprocessing for numerical and categorical data\n",
        "numeric_features = X_train.select_dtypes(include=['int64', 'float64']).columns\n",
        "categorical_features = X_train.select_dtypes(include=['object']).columns\n",
        "\n",
        "preprocessor = ColumnTransformer(\n",
        "    transformers=[\n",
        "        ('num', StandardScaler(), numeric_features),\n",
        "        ('cat', OneHotEncoder(handle_unknown='ignore'), categorical_features)\n",
        "    ])\n",
        "\n",
        "# Create the pipeline\n",
        "clf = Pipeline(steps=[('preprocessor', preprocessor),\n",
        "                      ('classifier', IsolationForest(n_estimators=100, max_samples='auto',\n",
        "                                                     contamination=float(0.12), random_state=42))])\n",
        "\n",
        "# Fit the pipeline\n",
        "clf.fit(X_train, y_train)  # You don't need to manually encode or scale\n",
        "\n",
        "# Predict using the pipeline\n",
        "predictions = clf.predict(X_test)\n"
      ],
      "metadata": {
        "id": "vZLUL0XVCx6c"
      },
      "execution_count": 13,
      "outputs": []
    },
    {
      "cell_type": "code",
      "source": [
        "# To check the installed version of scikit-learn\n",
        "!pip show scikit-learn\n",
        "\n",
        "# To upgrade scikit-learn\n",
        "!pip install --upgrade scikit-learn\n"
      ],
      "metadata": {
        "colab": {
          "base_uri": "https://localhost:8080/"
        },
        "id": "VyChedzPC1OT",
        "outputId": "096c664f-7015-4e41-a228-ef3d1a201035"
      },
      "execution_count": 15,
      "outputs": [
        {
          "output_type": "stream",
          "name": "stdout",
          "text": [
            "Name: scikit-learn\n",
            "Version: 1.2.2\n",
            "Summary: A set of python modules for machine learning and data mining\n",
            "Home-page: http://scikit-learn.org\n",
            "Author: \n",
            "Author-email: \n",
            "License: new BSD\n",
            "Location: /usr/local/lib/python3.10/dist-packages\n",
            "Requires: joblib, numpy, scipy, threadpoolctl\n",
            "Required-by: bigframes, fastai, imbalanced-learn, librosa, mlxtend, qudida, sklearn-pandas, yellowbrick\n",
            "Requirement already satisfied: scikit-learn in /usr/local/lib/python3.10/dist-packages (1.2.2)\n",
            "Collecting scikit-learn\n",
            "  Downloading scikit_learn-1.5.1-cp310-cp310-manylinux_2_17_x86_64.manylinux2014_x86_64.whl (13.4 MB)\n",
            "\u001b[2K     \u001b[90m━━━━━━━━━━━━━━━━━━━━━━━━━━━━━━━━━━━━━━━━\u001b[0m \u001b[32m13.4/13.4 MB\u001b[0m \u001b[31m47.4 MB/s\u001b[0m eta \u001b[36m0:00:00\u001b[0m\n",
            "\u001b[?25hRequirement already satisfied: numpy>=1.19.5 in /usr/local/lib/python3.10/dist-packages (from scikit-learn) (1.25.2)\n",
            "Requirement already satisfied: scipy>=1.6.0 in /usr/local/lib/python3.10/dist-packages (from scikit-learn) (1.11.4)\n",
            "Requirement already satisfied: joblib>=1.2.0 in /usr/local/lib/python3.10/dist-packages (from scikit-learn) (1.4.2)\n",
            "Requirement already satisfied: threadpoolctl>=3.1.0 in /usr/local/lib/python3.10/dist-packages (from scikit-learn) (3.5.0)\n",
            "Installing collected packages: scikit-learn\n",
            "  Attempting uninstall: scikit-learn\n",
            "    Found existing installation: scikit-learn 1.2.2\n",
            "    Uninstalling scikit-learn-1.2.2:\n",
            "      Successfully uninstalled scikit-learn-1.2.2\n",
            "Successfully installed scikit-learn-1.5.1\n"
          ]
        }
      ]
    },
    {
      "cell_type": "code",
      "source": [
        "# Assuming clf is your trained Pipeline that includes IsolationForest\n",
        "predictions = clf.predict(X_test)\n"
      ],
      "metadata": {
        "id": "8ZE0-e5UDM0Z"
      },
      "execution_count": 16,
      "outputs": []
    },
    {
      "cell_type": "code",
      "source": [
        "from sklearn.metrics import classification_report, accuracy_score\n",
        "\n",
        "# You may need to convert labels from -1/1 to your dataset's anomaly labels\n",
        "# Here's a simple conversion assuming 0 is normal and 1 is an anomaly\n",
        "y_test_converted = (y_test != 'normal').astype(int)  # Adjust based on your dataset\n",
        "predictions_converted = (predictions == -1).astype(int)\n",
        "\n",
        "print(\"Accuracy:\", accuracy_score(y_test_converted, predictions_converted))\n",
        "print(classification_report(y_test_converted, predictions_converted))\n"
      ],
      "metadata": {
        "colab": {
          "base_uri": "https://localhost:8080/"
        },
        "id": "BblK0g3yDPXC",
        "outputId": "85b56deb-dc47-4af3-fe4b-704aa968acb3"
      },
      "execution_count": 17,
      "outputs": [
        {
          "output_type": "stream",
          "name": "stdout",
          "text": [
            "Accuracy: 0.5672157174042469\n",
            "              precision    recall  f1-score   support\n",
            "\n",
            "           0       0.56      0.92      0.69     13386\n",
            "           1       0.65      0.17      0.27     11809\n",
            "\n",
            "    accuracy                           0.57     25195\n",
            "   macro avg       0.60      0.54      0.48     25195\n",
            "weighted avg       0.60      0.57      0.49     25195\n",
            "\n"
          ]
        }
      ]
    },
    {
      "cell_type": "code",
      "source": [
        "from sklearn.metrics import confusion_matrix\n",
        "import seaborn as sns\n",
        "import matplotlib.pyplot as plt\n",
        "\n",
        "cm = confusion_matrix(y_test_converted, predictions_converted)\n",
        "sns.heatmap(cm, annot=True, fmt='d')\n",
        "plt.xlabel('Predicted')\n",
        "plt.ylabel('True')\n",
        "plt.show()\n"
      ],
      "metadata": {
        "colab": {
          "base_uri": "https://localhost:8080/",
          "height": 449
        },
        "id": "ia2RJsbnDlYn",
        "outputId": "b8295427-7ac8-4dca-bb6a-b47162a48719"
      },
      "execution_count": 18,
      "outputs": [
        {
          "output_type": "display_data",
          "data": {
            "text/plain": [
              "<Figure size 640x480 with 2 Axes>"
            ],
            "image/png": "[encoded data removed]"
          },
          "metadata": {}
        }
      ]
    },
    {
      "cell_type": "code",
      "source": [
        "import warnings\n",
        "from sklearn.exceptions import DataConversionWarning\n",
        "\n",
        "# Suppress specific warnings from scikit-learn\n",
        "warnings.filterwarnings(action='ignore', category=UserWarning)\n",
        "warnings.filterwarnings(action='ignore', category=DataConversionWarning)\n",
        "\n",
        "# Now continue with your code\n"
      ],
      "metadata": {
        "id": "Hg39vLoAFZof"
      },
      "execution_count": 20,
      "outputs": []
    },
    {
      "cell_type": "code",
      "source": [
        "# Assuming X_train and X_test are your feature sets\n",
        "X_train.columns = [str(i) for i in range(len(X_train.columns))]\n",
        "X_test.columns = [str(i) for i in range(len(X_test.columns))]\n",
        "\n",
        "# Fit the model again\n",
        "model.fit(X_train, y_train)\n",
        "\n",
        "# Predict on the test set\n",
        "predictions = model.predict(X_test)\n"
      ],
      "metadata": {
        "id": "vSes9hBQFeKa"
      },
      "execution_count": 21,
      "outputs": []
    },
    {
      "cell_type": "code",
      "source": [
        "from sklearn.metrics import classification_report, accuracy_score\n",
        "\n",
        "# Assuming predictions and y_test are set\n",
        "predictions_converted = (predictions == -1).astype(int)\n",
        "y_test_converted = (y_test != 'normal').astype(int)\n",
        "\n",
        "print(\"Accuracy:\", accuracy_score(y_test_converted, predictions_converted))\n",
        "print(classification_report(y_test_converted, predictions_converted))\n"
      ],
      "metadata": {
        "colab": {
          "base_uri": "https://localhost:8080/"
        },
        "id": "510jf4oOFhxK",
        "outputId": "4c4336f1-eb0c-4813-8f66-b1000d2910f9"
      },
      "execution_count": 22,
      "outputs": [
        {
          "output_type": "stream",
          "name": "stdout",
          "text": [
            "Accuracy: 0.6067870609247866\n",
            "              precision    recall  f1-score   support\n",
            "\n",
            "           0       0.58      0.96      0.72     13386\n",
            "           1       0.81      0.21      0.33     11809\n",
            "\n",
            "    accuracy                           0.61     25195\n",
            "   macro avg       0.70      0.58      0.53     25195\n",
            "weighted avg       0.69      0.61      0.54     25195\n",
            "\n"
          ]
        }
      ]
    },
    {
      "cell_type": "code",
      "source": [
        "from sklearn.model_selection import GridSearchCV\n",
        "\n",
        "param_grid = {\n",
        "    'n_estimators': [100, 200, 300],\n",
        "    'max_samples': [100, 200, 'auto'],\n",
        "    'contamination': [0.01, 0.05, 0.1, 0.15],\n",
        "    'bootstrap': [True, False]\n",
        "}\n",
        "\n",
        "iso_forest = IsolationForest(random_state=42)\n",
        "grid_search = GridSearchCV(estimator=iso_forest, param_grid=param_grid, cv=5, scoring='accuracy', verbose=2)\n",
        "grid_search.fit(X_train_scaled, y_train)  # Assuming X_train_scaled and y_train are defined\n",
        "\n",
        "print(\"Best parameters:\", grid_search.best_params_)\n"
      ],
      "metadata": {
        "colab": {
          "base_uri": "https://localhost:8080/"
        },
        "id": "R0b5KAZ_GALu",
        "outputId": "f9ef31b5-703a-4e69-b96d-dbe8cb2693c8"
      },
      "execution_count": 23,
      "outputs": [
        {
          "output_type": "stream",
          "name": "stdout",
          "text": [
            "Fitting 5 folds for each of 72 candidates, totalling 360 fits\n",
            "[CV] END bootstrap=True, contamination=0.01, max_samples=100, n_estimators=100; total time=   4.9s\n",
            "[CV] END bootstrap=True, contamination=0.01, max_samples=100, n_estimators=100; total time=   4.8s\n",
            "[CV] END bootstrap=True, contamination=0.01, max_samples=100, n_estimators=100; total time=   4.2s\n",
            "[CV] END bootstrap=True, contamination=0.01, max_samples=100, n_estimators=100; total time=   4.7s\n",
            "[CV] END bootstrap=True, contamination=0.01, max_samples=100, n_estimators=100; total time=   4.7s\n",
            "[CV] END bootstrap=True, contamination=0.01, max_samples=100, n_estimators=200; total time=   9.0s\n",
            "[CV] END bootstrap=True, contamination=0.01, max_samples=100, n_estimators=200; total time=   8.7s\n",
            "[CV] END bootstrap=True, contamination=0.01, max_samples=100, n_estimators=200; total time=   9.4s\n",
            "[CV] END bootstrap=True, contamination=0.01, max_samples=100, n_estimators=200; total time=   9.2s\n",
            "[CV] END bootstrap=True, contamination=0.01, max_samples=100, n_estimators=200; total time=   8.4s\n",
            "[CV] END bootstrap=True, contamination=0.01, max_samples=100, n_estimators=300; total time=  13.4s\n",
            "[CV] END bootstrap=True, contamination=0.01, max_samples=100, n_estimators=300; total time=  13.5s\n",
            "[CV] END bootstrap=True, contamination=0.01, max_samples=100, n_estimators=300; total time=  13.6s\n",
            "[CV] END bootstrap=True, contamination=0.01, max_samples=100, n_estimators=300; total time=  13.6s\n",
            "[CV] END bootstrap=True, contamination=0.01, max_samples=100, n_estimators=300; total time=  13.6s\n",
            "[CV] END bootstrap=True, contamination=0.01, max_samples=200, n_estimators=100; total time=   5.1s\n",
            "[CV] END bootstrap=True, contamination=0.01, max_samples=200, n_estimators=100; total time=   4.3s\n",
            "[CV] END bootstrap=True, contamination=0.01, max_samples=200, n_estimators=100; total time=   4.8s\n",
            "[CV] END bootstrap=True, contamination=0.01, max_samples=200, n_estimators=100; total time=   4.8s\n",
            "[CV] END bootstrap=True, contamination=0.01, max_samples=200, n_estimators=100; total time=   4.3s\n",
            "[CV] END bootstrap=True, contamination=0.01, max_samples=200, n_estimators=200; total time=   9.6s\n",
            "[CV] END bootstrap=True, contamination=0.01, max_samples=200, n_estimators=200; total time=   9.5s\n",
            "[CV] END bootstrap=True, contamination=0.01, max_samples=200, n_estimators=200; total time=   8.7s\n",
            "[CV] END bootstrap=True, contamination=0.01, max_samples=200, n_estimators=200; total time=   9.7s\n",
            "[CV] END bootstrap=True, contamination=0.01, max_samples=200, n_estimators=200; total time=   9.8s\n",
            "[CV] END bootstrap=True, contamination=0.01, max_samples=200, n_estimators=300; total time=  14.4s\n",
            "[CV] END bootstrap=True, contamination=0.01, max_samples=200, n_estimators=300; total time=  13.9s\n",
            "[CV] END bootstrap=True, contamination=0.01, max_samples=200, n_estimators=300; total time=  14.0s\n",
            "[CV] END bootstrap=True, contamination=0.01, max_samples=200, n_estimators=300; total time=  13.9s\n",
            "[CV] END bootstrap=True, contamination=0.01, max_samples=200, n_estimators=300; total time=  14.3s\n",
            "[CV] END bootstrap=True, contamination=0.01, max_samples=auto, n_estimators=100; total time=   4.8s\n",
            "[CV] END bootstrap=True, contamination=0.01, max_samples=auto, n_estimators=100; total time=   4.9s\n",
            "[CV] END bootstrap=True, contamination=0.01, max_samples=auto, n_estimators=100; total time=   4.4s\n",
            "[CV] END bootstrap=True, contamination=0.01, max_samples=auto, n_estimators=100; total time=   5.1s\n",
            "[CV] END bootstrap=True, contamination=0.01, max_samples=auto, n_estimators=100; total time=   4.4s\n",
            "[CV] END bootstrap=True, contamination=0.01, max_samples=auto, n_estimators=200; total time=   9.8s\n",
            "[CV] END bootstrap=True, contamination=0.01, max_samples=auto, n_estimators=200; total time=   8.7s\n",
            "[CV] END bootstrap=True, contamination=0.01, max_samples=auto, n_estimators=200; total time=   9.7s\n",
            "[CV] END bootstrap=True, contamination=0.01, max_samples=auto, n_estimators=200; total time=   9.8s\n",
            "[CV] END bootstrap=True, contamination=0.01, max_samples=auto, n_estimators=200; total time=   9.0s\n",
            "[CV] END bootstrap=True, contamination=0.01, max_samples=auto, n_estimators=300; total time=  13.9s\n",
            "[CV] END bootstrap=True, contamination=0.01, max_samples=auto, n_estimators=300; total time=  14.1s\n",
            "[CV] END bootstrap=True, contamination=0.01, max_samples=auto, n_estimators=300; total time=  13.7s\n",
            "[CV] END bootstrap=True, contamination=0.01, max_samples=auto, n_estimators=300; total time=  13.7s\n",
            "[CV] END bootstrap=True, contamination=0.01, max_samples=auto, n_estimators=300; total time=  13.8s\n",
            "[CV] END bootstrap=True, contamination=0.05, max_samples=100, n_estimators=100; total time=   4.2s\n",
            "[CV] END bootstrap=True, contamination=0.05, max_samples=100, n_estimators=100; total time=   4.4s\n",
            "[CV] END bootstrap=True, contamination=0.05, max_samples=100, n_estimators=100; total time=   5.3s\n",
            "[CV] END bootstrap=True, contamination=0.05, max_samples=100, n_estimators=100; total time=   4.2s\n",
            "[CV] END bootstrap=True, contamination=0.05, max_samples=100, n_estimators=100; total time=   4.6s\n",
            "[CV] END bootstrap=True, contamination=0.05, max_samples=100, n_estimators=200; total time=   9.2s\n",
            "[CV] END bootstrap=True, contamination=0.05, max_samples=100, n_estimators=200; total time=   9.7s\n",
            "[CV] END bootstrap=True, contamination=0.05, max_samples=100, n_estimators=200; total time=   8.9s\n",
            "[CV] END bootstrap=True, contamination=0.05, max_samples=100, n_estimators=200; total time=   8.7s\n",
            "[CV] END bootstrap=True, contamination=0.05, max_samples=100, n_estimators=200; total time=   9.3s\n",
            "[CV] END bootstrap=True, contamination=0.05, max_samples=100, n_estimators=300; total time=  13.4s\n",
            "[CV] END bootstrap=True, contamination=0.05, max_samples=100, n_estimators=300; total time=  13.4s\n",
            "[CV] END bootstrap=True, contamination=0.05, max_samples=100, n_estimators=300; total time=  13.6s\n",
            "[CV] END bootstrap=True, contamination=0.05, max_samples=100, n_estimators=300; total time=  13.5s\n",
            "[CV] END bootstrap=True, contamination=0.05, max_samples=100, n_estimators=300; total time=  13.7s\n",
            "[CV] END bootstrap=True, contamination=0.05, max_samples=200, n_estimators=100; total time=   4.6s\n",
            "[CV] END bootstrap=True, contamination=0.05, max_samples=200, n_estimators=100; total time=   5.1s\n",
            "[CV] END bootstrap=True, contamination=0.05, max_samples=200, n_estimators=100; total time=   4.4s\n",
            "[CV] END bootstrap=True, contamination=0.05, max_samples=200, n_estimators=100; total time=   5.0s\n",
            "[CV] END bootstrap=True, contamination=0.05, max_samples=200, n_estimators=100; total time=   4.8s\n",
            "[CV] END bootstrap=True, contamination=0.05, max_samples=200, n_estimators=200; total time=   9.7s\n",
            "[CV] END bootstrap=True, contamination=0.05, max_samples=200, n_estimators=200; total time=   8.7s\n",
            "[CV] END bootstrap=True, contamination=0.05, max_samples=200, n_estimators=200; total time=   9.9s\n",
            "[CV] END bootstrap=True, contamination=0.05, max_samples=200, n_estimators=200; total time=   9.7s\n",
            "[CV] END bootstrap=True, contamination=0.05, max_samples=200, n_estimators=200; total time=   9.0s\n",
            "[CV] END bootstrap=True, contamination=0.05, max_samples=200, n_estimators=300; total time=  14.2s\n",
            "[CV] END bootstrap=True, contamination=0.05, max_samples=200, n_estimators=300; total time=  14.1s\n",
            "[CV] END bootstrap=True, contamination=0.05, max_samples=200, n_estimators=300; total time=  13.7s\n",
            "[CV] END bootstrap=True, contamination=0.05, max_samples=200, n_estimators=300; total time=  13.9s\n",
            "[CV] END bootstrap=True, contamination=0.05, max_samples=200, n_estimators=300; total time=  13.7s\n",
            "[CV] END bootstrap=True, contamination=0.05, max_samples=auto, n_estimators=100; total time=   4.5s\n",
            "[CV] END bootstrap=True, contamination=0.05, max_samples=auto, n_estimators=100; total time=   4.6s\n",
            "[CV] END bootstrap=True, contamination=0.05, max_samples=auto, n_estimators=100; total time=   5.1s\n",
            "[CV] END bootstrap=True, contamination=0.05, max_samples=auto, n_estimators=100; total time=   4.3s\n",
            "[CV] END bootstrap=True, contamination=0.05, max_samples=auto, n_estimators=100; total time=   4.8s\n",
            "[CV] END bootstrap=True, contamination=0.05, max_samples=auto, n_estimators=200; total time=   9.1s\n",
            "[CV] END bootstrap=True, contamination=0.05, max_samples=auto, n_estimators=200; total time=   9.7s\n",
            "[CV] END bootstrap=True, contamination=0.05, max_samples=auto, n_estimators=200; total time=   9.6s\n",
            "[CV] END bootstrap=True, contamination=0.05, max_samples=auto, n_estimators=200; total time=   8.6s\n",
            "[CV] END bootstrap=True, contamination=0.05, max_samples=auto, n_estimators=200; total time=   9.7s\n",
            "[CV] END bootstrap=True, contamination=0.05, max_samples=auto, n_estimators=300; total time=  13.9s\n",
            "[CV] END bootstrap=True, contamination=0.05, max_samples=auto, n_estimators=300; total time=  13.8s\n",
            "[CV] END bootstrap=True, contamination=0.05, max_samples=auto, n_estimators=300; total time=  13.8s\n",
            "[CV] END bootstrap=True, contamination=0.05, max_samples=auto, n_estimators=300; total time=  14.0s\n",
            "[CV] END bootstrap=True, contamination=0.05, max_samples=auto, n_estimators=300; total time=  13.8s\n",
            "[CV] END bootstrap=True, contamination=0.1, max_samples=100, n_estimators=100; total time=   5.2s\n",
            "[CV] END bootstrap=True, contamination=0.1, max_samples=100, n_estimators=100; total time=   4.2s\n",
            "[CV] END bootstrap=True, contamination=0.1, max_samples=100, n_estimators=100; total time=   4.4s\n",
            "[CV] END bootstrap=True, contamination=0.1, max_samples=100, n_estimators=100; total time=   5.1s\n",
            "[CV] END bootstrap=True, contamination=0.1, max_samples=100, n_estimators=100; total time=   4.2s\n",
            "[CV] END bootstrap=True, contamination=0.1, max_samples=100, n_estimators=200; total time=   9.4s\n",
            "[CV] END bootstrap=True, contamination=0.1, max_samples=100, n_estimators=200; total time=   8.8s\n",
            "[CV] END bootstrap=True, contamination=0.1, max_samples=100, n_estimators=200; total time=   8.9s\n",
            "[CV] END bootstrap=True, contamination=0.1, max_samples=100, n_estimators=200; total time=   9.4s\n",
            "[CV] END bootstrap=True, contamination=0.1, max_samples=100, n_estimators=200; total time=   9.3s\n",
            "[CV] END bootstrap=True, contamination=0.1, max_samples=100, n_estimators=300; total time=  13.6s\n",
            "[CV] END bootstrap=True, contamination=0.1, max_samples=100, n_estimators=300; total time=  13.3s\n",
            "[CV] END bootstrap=True, contamination=0.1, max_samples=100, n_estimators=300; total time=  13.5s\n",
            "[CV] END bootstrap=True, contamination=0.1, max_samples=100, n_estimators=300; total time=  13.1s\n",
            "[CV] END bootstrap=True, contamination=0.1, max_samples=100, n_estimators=300; total time=  13.3s\n",
            "[CV] END bootstrap=True, contamination=0.1, max_samples=200, n_estimators=100; total time=   4.3s\n",
            "[CV] END bootstrap=True, contamination=0.1, max_samples=200, n_estimators=100; total time=   4.3s\n",
            "[CV] END bootstrap=True, contamination=0.1, max_samples=200, n_estimators=100; total time=   5.3s\n",
            "[CV] END bootstrap=True, contamination=0.1, max_samples=200, n_estimators=100; total time=   4.3s\n",
            "[CV] END bootstrap=True, contamination=0.1, max_samples=200, n_estimators=100; total time=   4.7s\n",
            "[CV] END bootstrap=True, contamination=0.1, max_samples=200, n_estimators=200; total time=   9.3s\n",
            "[CV] END bootstrap=True, contamination=0.1, max_samples=200, n_estimators=200; total time=   9.6s\n",
            "[CV] END bootstrap=True, contamination=0.1, max_samples=200, n_estimators=200; total time=   9.4s\n",
            "[CV] END bootstrap=True, contamination=0.1, max_samples=200, n_estimators=200; total time=   8.6s\n",
            "[CV] END bootstrap=True, contamination=0.1, max_samples=200, n_estimators=200; total time=   9.5s\n",
            "[CV] END bootstrap=True, contamination=0.1, max_samples=200, n_estimators=300; total time=  14.0s\n",
            "[CV] END bootstrap=True, contamination=0.1, max_samples=200, n_estimators=300; total time=  14.0s\n",
            "[CV] END bootstrap=True, contamination=0.1, max_samples=200, n_estimators=300; total time=  13.7s\n",
            "[CV] END bootstrap=True, contamination=0.1, max_samples=200, n_estimators=300; total time=  13.9s\n",
            "[CV] END bootstrap=True, contamination=0.1, max_samples=200, n_estimators=300; total time=  13.9s\n",
            "[CV] END bootstrap=True, contamination=0.1, max_samples=auto, n_estimators=100; total time=   5.3s\n",
            "[CV] END bootstrap=True, contamination=0.1, max_samples=auto, n_estimators=100; total time=   4.5s\n",
            "[CV] END bootstrap=True, contamination=0.1, max_samples=auto, n_estimators=100; total time=   4.8s\n",
            "[CV] END bootstrap=True, contamination=0.1, max_samples=auto, n_estimators=100; total time=   4.7s\n",
            "[CV] END bootstrap=True, contamination=0.1, max_samples=auto, n_estimators=100; total time=   4.3s\n",
            "[CV] END bootstrap=True, contamination=0.1, max_samples=auto, n_estimators=200; total time=   9.6s\n",
            "[CV] END bootstrap=True, contamination=0.1, max_samples=auto, n_estimators=200; total time=   9.4s\n",
            "[CV] END bootstrap=True, contamination=0.1, max_samples=auto, n_estimators=200; total time=   8.5s\n",
            "[CV] END bootstrap=True, contamination=0.1, max_samples=auto, n_estimators=200; total time=   9.6s\n",
            "[CV] END bootstrap=True, contamination=0.1, max_samples=auto, n_estimators=200; total time=   9.7s\n",
            "[CV] END bootstrap=True, contamination=0.1, max_samples=auto, n_estimators=300; total time=  13.8s\n",
            "[CV] END bootstrap=True, contamination=0.1, max_samples=auto, n_estimators=300; total time=  13.6s\n",
            "[CV] END bootstrap=True, contamination=0.1, max_samples=auto, n_estimators=300; total time=  13.8s\n",
            "[CV] END bootstrap=True, contamination=0.1, max_samples=auto, n_estimators=300; total time=  13.9s\n",
            "[CV] END bootstrap=True, contamination=0.1, max_samples=auto, n_estimators=300; total time=  13.9s\n",
            "[CV] END bootstrap=True, contamination=0.15, max_samples=100, n_estimators=100; total time=   4.2s\n",
            "[CV] END bootstrap=True, contamination=0.15, max_samples=100, n_estimators=100; total time=   5.1s\n",
            "[CV] END bootstrap=True, contamination=0.15, max_samples=100, n_estimators=100; total time=   4.2s\n",
            "[CV] END bootstrap=True, contamination=0.15, max_samples=100, n_estimators=100; total time=   4.4s\n",
            "[CV] END bootstrap=True, contamination=0.15, max_samples=100, n_estimators=100; total time=   5.0s\n",
            "[CV] END bootstrap=True, contamination=0.15, max_samples=100, n_estimators=200; total time=   8.6s\n",
            "[CV] END bootstrap=True, contamination=0.15, max_samples=100, n_estimators=200; total time=   9.0s\n",
            "[CV] END bootstrap=True, contamination=0.15, max_samples=100, n_estimators=200; total time=   9.5s\n",
            "[CV] END bootstrap=True, contamination=0.15, max_samples=100, n_estimators=200; total time=   9.0s\n",
            "[CV] END bootstrap=True, contamination=0.15, max_samples=100, n_estimators=200; total time=   8.6s\n",
            "[CV] END bootstrap=True, contamination=0.15, max_samples=100, n_estimators=300; total time=  13.5s\n",
            "[CV] END bootstrap=True, contamination=0.15, max_samples=100, n_estimators=300; total time=  13.6s\n",
            "[CV] END bootstrap=True, contamination=0.15, max_samples=100, n_estimators=300; total time=  13.6s\n",
            "[CV] END bootstrap=True, contamination=0.15, max_samples=100, n_estimators=300; total time=  13.8s\n",
            "[CV] END bootstrap=True, contamination=0.15, max_samples=100, n_estimators=300; total time=  13.5s\n",
            "[CV] END bootstrap=True, contamination=0.15, max_samples=200, n_estimators=100; total time=   5.3s\n",
            "[CV] END bootstrap=True, contamination=0.15, max_samples=200, n_estimators=100; total time=   4.4s\n",
            "[CV] END bootstrap=True, contamination=0.15, max_samples=200, n_estimators=100; total time=   5.0s\n",
            "[CV] END bootstrap=True, contamination=0.15, max_samples=200, n_estimators=100; total time=   4.8s\n",
            "[CV] END bootstrap=True, contamination=0.15, max_samples=200, n_estimators=100; total time=   4.3s\n",
            "[CV] END bootstrap=True, contamination=0.15, max_samples=200, n_estimators=200; total time=   9.7s\n",
            "[CV] END bootstrap=True, contamination=0.15, max_samples=200, n_estimators=200; total time=   9.6s\n",
            "[CV] END bootstrap=True, contamination=0.15, max_samples=200, n_estimators=200; total time=   8.6s\n",
            "[CV] END bootstrap=True, contamination=0.15, max_samples=200, n_estimators=200; total time=   9.4s\n",
            "[CV] END bootstrap=True, contamination=0.15, max_samples=200, n_estimators=200; total time=   9.7s\n",
            "[CV] END bootstrap=True, contamination=0.15, max_samples=200, n_estimators=300; total time=  13.8s\n",
            "[CV] END bootstrap=True, contamination=0.15, max_samples=200, n_estimators=300; total time=  13.9s\n",
            "[CV] END bootstrap=True, contamination=0.15, max_samples=200, n_estimators=300; total time=  13.8s\n",
            "[CV] END bootstrap=True, contamination=0.15, max_samples=200, n_estimators=300; total time=  13.8s\n",
            "[CV] END bootstrap=True, contamination=0.15, max_samples=200, n_estimators=300; total time=  13.9s\n",
            "[CV] END bootstrap=True, contamination=0.15, max_samples=auto, n_estimators=100; total time=   4.5s\n",
            "[CV] END bootstrap=True, contamination=0.15, max_samples=auto, n_estimators=100; total time=   5.1s\n",
            "[CV] END bootstrap=True, contamination=0.15, max_samples=auto, n_estimators=100; total time=   4.4s\n",
            "[CV] END bootstrap=True, contamination=0.15, max_samples=auto, n_estimators=100; total time=   4.9s\n",
            "[CV] END bootstrap=True, contamination=0.15, max_samples=auto, n_estimators=100; total time=   4.7s\n",
            "[CV] END bootstrap=True, contamination=0.15, max_samples=auto, n_estimators=200; total time=   9.4s\n",
            "[CV] END bootstrap=True, contamination=0.15, max_samples=auto, n_estimators=200; total time=   8.5s\n",
            "[CV] END bootstrap=True, contamination=0.15, max_samples=auto, n_estimators=200; total time=   9.6s\n",
            "[CV] END bootstrap=True, contamination=0.15, max_samples=auto, n_estimators=200; total time=   9.4s\n",
            "[CV] END bootstrap=True, contamination=0.15, max_samples=auto, n_estimators=200; total time=   8.4s\n",
            "[CV] END bootstrap=True, contamination=0.15, max_samples=auto, n_estimators=300; total time=  14.0s\n",
            "[CV] END bootstrap=True, contamination=0.15, max_samples=auto, n_estimators=300; total time=  14.0s\n",
            "[CV] END bootstrap=True, contamination=0.15, max_samples=auto, n_estimators=300; total time=  14.1s\n",
            "[CV] END bootstrap=True, contamination=0.15, max_samples=auto, n_estimators=300; total time=  14.2s\n",
            "[CV] END bootstrap=True, contamination=0.15, max_samples=auto, n_estimators=300; total time=  13.7s\n",
            "[CV] END bootstrap=False, contamination=0.01, max_samples=100, n_estimators=100; total time=   4.3s\n",
            "[CV] END bootstrap=False, contamination=0.01, max_samples=100, n_estimators=100; total time=   4.2s\n",
            "[CV] END bootstrap=False, contamination=0.01, max_samples=100, n_estimators=100; total time=   5.2s\n",
            "[CV] END bootstrap=False, contamination=0.01, max_samples=100, n_estimators=100; total time=   4.2s\n",
            "[CV] END bootstrap=False, contamination=0.01, max_samples=100, n_estimators=100; total time=   4.3s\n",
            "[CV] END bootstrap=False, contamination=0.01, max_samples=100, n_estimators=200; total time=   9.5s\n",
            "[CV] END bootstrap=False, contamination=0.01, max_samples=100, n_estimators=200; total time=   9.3s\n",
            "[CV] END bootstrap=False, contamination=0.01, max_samples=100, n_estimators=200; total time=   8.7s\n",
            "[CV] END bootstrap=False, contamination=0.01, max_samples=100, n_estimators=200; total time=   9.1s\n",
            "[CV] END bootstrap=False, contamination=0.01, max_samples=100, n_estimators=200; total time=   9.4s\n",
            "[CV] END bootstrap=False, contamination=0.01, max_samples=100, n_estimators=300; total time=  13.6s\n",
            "[CV] END bootstrap=False, contamination=0.01, max_samples=100, n_estimators=300; total time=  13.5s\n",
            "[CV] END bootstrap=False, contamination=0.01, max_samples=100, n_estimators=300; total time=  13.8s\n",
            "[CV] END bootstrap=False, contamination=0.01, max_samples=100, n_estimators=300; total time=  13.8s\n",
            "[CV] END bootstrap=False, contamination=0.01, max_samples=100, n_estimators=300; total time=  13.5s\n",
            "[CV] END bootstrap=False, contamination=0.01, max_samples=200, n_estimators=100; total time=   4.6s\n",
            "[CV] END bootstrap=False, contamination=0.01, max_samples=200, n_estimators=100; total time=   5.0s\n",
            "[CV] END bootstrap=False, contamination=0.01, max_samples=200, n_estimators=100; total time=   4.4s\n",
            "[CV] END bootstrap=False, contamination=0.01, max_samples=200, n_estimators=100; total time=   5.3s\n",
            "[CV] END bootstrap=False, contamination=0.01, max_samples=200, n_estimators=100; total time=   4.4s\n",
            "[CV] END bootstrap=False, contamination=0.01, max_samples=200, n_estimators=200; total time=   9.5s\n",
            "[CV] END bootstrap=False, contamination=0.01, max_samples=200, n_estimators=200; total time=   8.7s\n",
            "[CV] END bootstrap=False, contamination=0.01, max_samples=200, n_estimators=200; total time=   9.8s\n",
            "[CV] END bootstrap=False, contamination=0.01, max_samples=200, n_estimators=200; total time=   9.9s\n",
            "[CV] END bootstrap=False, contamination=0.01, max_samples=200, n_estimators=200; total time=   9.5s\n",
            "[CV] END bootstrap=False, contamination=0.01, max_samples=200, n_estimators=300; total time=  14.3s\n",
            "[CV] END bootstrap=False, contamination=0.01, max_samples=200, n_estimators=300; total time=  13.9s\n",
            "[CV] END bootstrap=False, contamination=0.01, max_samples=200, n_estimators=300; total time=  14.0s\n",
            "[CV] END bootstrap=False, contamination=0.01, max_samples=200, n_estimators=300; total time=  14.0s\n",
            "[CV] END bootstrap=False, contamination=0.01, max_samples=200, n_estimators=300; total time=  14.1s\n",
            "[CV] END bootstrap=False, contamination=0.01, max_samples=auto, n_estimators=100; total time=   4.4s\n",
            "[CV] END bootstrap=False, contamination=0.01, max_samples=auto, n_estimators=100; total time=   5.3s\n",
            "[CV] END bootstrap=False, contamination=0.01, max_samples=auto, n_estimators=100; total time=   4.5s\n",
            "[CV] END bootstrap=False, contamination=0.01, max_samples=auto, n_estimators=100; total time=   4.4s\n",
            "[CV] END bootstrap=False, contamination=0.01, max_samples=auto, n_estimators=100; total time=   5.4s\n",
            "[CV] END bootstrap=False, contamination=0.01, max_samples=auto, n_estimators=200; total time=   8.7s\n",
            "[CV] END bootstrap=False, contamination=0.01, max_samples=auto, n_estimators=200; total time=   9.8s\n",
            "[CV] END bootstrap=False, contamination=0.01, max_samples=auto, n_estimators=200; total time=   9.8s\n",
            "[CV] END bootstrap=False, contamination=0.01, max_samples=auto, n_estimators=200; total time=   9.4s\n",
            "[CV] END bootstrap=False, contamination=0.01, max_samples=auto, n_estimators=200; total time=   8.8s\n",
            "[CV] END bootstrap=False, contamination=0.01, max_samples=auto, n_estimators=300; total time=  14.3s\n",
            "[CV] END bootstrap=False, contamination=0.01, max_samples=auto, n_estimators=300; total time=  14.4s\n",
            "[CV] END bootstrap=False, contamination=0.01, max_samples=auto, n_estimators=300; total time=  14.6s\n",
            "[CV] END bootstrap=False, contamination=0.01, max_samples=auto, n_estimators=300; total time=  14.0s\n",
            "[CV] END bootstrap=False, contamination=0.01, max_samples=auto, n_estimators=300; total time=  14.0s\n",
            "[CV] END bootstrap=False, contamination=0.05, max_samples=100, n_estimators=100; total time=   4.2s\n",
            "[CV] END bootstrap=False, contamination=0.05, max_samples=100, n_estimators=100; total time=   4.2s\n",
            "[CV] END bootstrap=False, contamination=0.05, max_samples=100, n_estimators=100; total time=   5.2s\n",
            "[CV] END bootstrap=False, contamination=0.05, max_samples=100, n_estimators=100; total time=   4.3s\n",
            "[CV] END bootstrap=False, contamination=0.05, max_samples=100, n_estimators=100; total time=   4.2s\n",
            "[CV] END bootstrap=False, contamination=0.05, max_samples=100, n_estimators=200; total time=   9.5s\n",
            "[CV] END bootstrap=False, contamination=0.05, max_samples=100, n_estimators=200; total time=   9.4s\n",
            "[CV] END bootstrap=False, contamination=0.05, max_samples=100, n_estimators=200; total time=   8.8s\n",
            "[CV] END bootstrap=False, contamination=0.05, max_samples=100, n_estimators=200; total time=   9.0s\n",
            "[CV] END bootstrap=False, contamination=0.05, max_samples=100, n_estimators=200; total time=   9.4s\n",
            "[CV] END bootstrap=False, contamination=0.05, max_samples=100, n_estimators=300; total time=  13.3s\n",
            "[CV] END bootstrap=False, contamination=0.05, max_samples=100, n_estimators=300; total time=  13.6s\n",
            "[CV] END bootstrap=False, contamination=0.05, max_samples=100, n_estimators=300; total time=  13.5s\n",
            "[CV] END bootstrap=False, contamination=0.05, max_samples=100, n_estimators=300; total time=  13.6s\n",
            "[CV] END bootstrap=False, contamination=0.05, max_samples=100, n_estimators=300; total time=  13.3s\n",
            "[CV] END bootstrap=False, contamination=0.05, max_samples=200, n_estimators=100; total time=   4.5s\n",
            "[CV] END bootstrap=False, contamination=0.05, max_samples=200, n_estimators=100; total time=   5.4s\n",
            "[CV] END bootstrap=False, contamination=0.05, max_samples=200, n_estimators=100; total time=   4.4s\n",
            "[CV] END bootstrap=False, contamination=0.05, max_samples=200, n_estimators=100; total time=   5.0s\n",
            "[CV] END bootstrap=False, contamination=0.05, max_samples=200, n_estimators=100; total time=   4.8s\n",
            "[CV] END bootstrap=False, contamination=0.05, max_samples=200, n_estimators=200; total time=   9.7s\n",
            "[CV] END bootstrap=False, contamination=0.05, max_samples=200, n_estimators=200; total time=   8.7s\n",
            "[CV] END bootstrap=False, contamination=0.05, max_samples=200, n_estimators=200; total time=   9.8s\n",
            "[CV] END bootstrap=False, contamination=0.05, max_samples=200, n_estimators=200; total time=   9.7s\n",
            "[CV] END bootstrap=False, contamination=0.05, max_samples=200, n_estimators=200; total time=   9.0s\n",
            "[CV] END bootstrap=False, contamination=0.05, max_samples=200, n_estimators=300; total time=  14.3s\n",
            "[CV] END bootstrap=False, contamination=0.05, max_samples=200, n_estimators=300; total time=  14.2s\n",
            "[CV] END bootstrap=False, contamination=0.05, max_samples=200, n_estimators=300; total time=  13.9s\n",
            "[CV] END bootstrap=False, contamination=0.05, max_samples=200, n_estimators=300; total time=  13.8s\n",
            "[CV] END bootstrap=False, contamination=0.05, max_samples=200, n_estimators=300; total time=  13.8s\n",
            "[CV] END bootstrap=False, contamination=0.05, max_samples=auto, n_estimators=100; total time=   4.4s\n",
            "[CV] END bootstrap=False, contamination=0.05, max_samples=auto, n_estimators=100; total time=   4.7s\n",
            "[CV] END bootstrap=False, contamination=0.05, max_samples=auto, n_estimators=100; total time=   5.1s\n",
            "[CV] END bootstrap=False, contamination=0.05, max_samples=auto, n_estimators=100; total time=   4.4s\n",
            "[CV] END bootstrap=False, contamination=0.05, max_samples=auto, n_estimators=100; total time=   5.1s\n",
            "[CV] END bootstrap=False, contamination=0.05, max_samples=auto, n_estimators=200; total time=   8.9s\n",
            "[CV] END bootstrap=False, contamination=0.05, max_samples=auto, n_estimators=200; total time=   9.7s\n",
            "[CV] END bootstrap=False, contamination=0.05, max_samples=auto, n_estimators=200; total time=   9.7s\n",
            "[CV] END bootstrap=False, contamination=0.05, max_samples=auto, n_estimators=200; total time=   8.7s\n",
            "[CV] END bootstrap=False, contamination=0.05, max_samples=auto, n_estimators=200; total time=  10.2s\n",
            "[CV] END bootstrap=False, contamination=0.05, max_samples=auto, n_estimators=300; total time=  14.9s\n",
            "[CV] END bootstrap=False, contamination=0.05, max_samples=auto, n_estimators=300; total time=  14.8s\n",
            "[CV] END bootstrap=False, contamination=0.05, max_samples=auto, n_estimators=300; total time=  14.4s\n",
            "[CV] END bootstrap=False, contamination=0.05, max_samples=auto, n_estimators=300; total time=  14.3s\n",
            "[CV] END bootstrap=False, contamination=0.05, max_samples=auto, n_estimators=300; total time=  14.1s\n",
            "[CV] END bootstrap=False, contamination=0.1, max_samples=100, n_estimators=100; total time=   4.3s\n",
            "[CV] END bootstrap=False, contamination=0.1, max_samples=100, n_estimators=100; total time=   4.2s\n",
            "[CV] END bootstrap=False, contamination=0.1, max_samples=100, n_estimators=100; total time=   5.3s\n",
            "[CV] END bootstrap=False, contamination=0.1, max_samples=100, n_estimators=100; total time=   4.2s\n",
            "[CV] END bootstrap=False, contamination=0.1, max_samples=100, n_estimators=100; total time=   4.2s\n",
            "[CV] END bootstrap=False, contamination=0.1, max_samples=100, n_estimators=200; total time=   9.3s\n",
            "[CV] END bootstrap=False, contamination=0.1, max_samples=100, n_estimators=200; total time=   9.4s\n",
            "[CV] END bootstrap=False, contamination=0.1, max_samples=100, n_estimators=200; total time=   8.8s\n",
            "[CV] END bootstrap=False, contamination=0.1, max_samples=100, n_estimators=200; total time=   9.0s\n",
            "[CV] END bootstrap=False, contamination=0.1, max_samples=100, n_estimators=200; total time=   9.4s\n",
            "[CV] END bootstrap=False, contamination=0.1, max_samples=100, n_estimators=300; total time=  13.4s\n",
            "[CV] END bootstrap=False, contamination=0.1, max_samples=100, n_estimators=300; total time=  13.5s\n",
            "[CV] END bootstrap=False, contamination=0.1, max_samples=100, n_estimators=300; total time=  13.6s\n",
            "[CV] END bootstrap=False, contamination=0.1, max_samples=100, n_estimators=300; total time=  13.5s\n",
            "[CV] END bootstrap=False, contamination=0.1, max_samples=100, n_estimators=300; total time=  13.4s\n",
            "[CV] END bootstrap=False, contamination=0.1, max_samples=200, n_estimators=100; total time=   4.5s\n",
            "[CV] END bootstrap=False, contamination=0.1, max_samples=200, n_estimators=100; total time=   5.4s\n",
            "[CV] END bootstrap=False, contamination=0.1, max_samples=200, n_estimators=100; total time=   4.3s\n",
            "[CV] END bootstrap=False, contamination=0.1, max_samples=200, n_estimators=100; total time=   4.8s\n",
            "[CV] END bootstrap=False, contamination=0.1, max_samples=200, n_estimators=100; total time=   4.8s\n",
            "[CV] END bootstrap=False, contamination=0.1, max_samples=200, n_estimators=200; total time=   9.8s\n",
            "[CV] END bootstrap=False, contamination=0.1, max_samples=200, n_estimators=200; total time=   8.8s\n",
            "[CV] END bootstrap=False, contamination=0.1, max_samples=200, n_estimators=200; total time=   9.7s\n",
            "[CV] END bootstrap=False, contamination=0.1, max_samples=200, n_estimators=200; total time=   9.6s\n",
            "[CV] END bootstrap=False, contamination=0.1, max_samples=200, n_estimators=200; total time=   9.1s\n",
            "[CV] END bootstrap=False, contamination=0.1, max_samples=200, n_estimators=300; total time=  14.3s\n",
            "[CV] END bootstrap=False, contamination=0.1, max_samples=200, n_estimators=300; total time=  14.1s\n",
            "[CV] END bootstrap=False, contamination=0.1, max_samples=200, n_estimators=300; total time=  14.0s\n",
            "[CV] END bootstrap=False, contamination=0.1, max_samples=200, n_estimators=300; total time=  13.7s\n",
            "[CV] END bootstrap=False, contamination=0.1, max_samples=200, n_estimators=300; total time=  14.0s\n",
            "[CV] END bootstrap=False, contamination=0.1, max_samples=auto, n_estimators=100; total time=   4.4s\n",
            "[CV] END bootstrap=False, contamination=0.1, max_samples=auto, n_estimators=100; total time=   5.0s\n",
            "[CV] END bootstrap=False, contamination=0.1, max_samples=auto, n_estimators=100; total time=   4.6s\n",
            "[CV] END bootstrap=False, contamination=0.1, max_samples=auto, n_estimators=100; total time=   4.4s\n",
            "[CV] END bootstrap=False, contamination=0.1, max_samples=auto, n_estimators=100; total time=   5.4s\n",
            "[CV] END bootstrap=False, contamination=0.1, max_samples=auto, n_estimators=200; total time=   8.8s\n",
            "[CV] END bootstrap=False, contamination=0.1, max_samples=auto, n_estimators=200; total time=   9.9s\n",
            "[CV] END bootstrap=False, contamination=0.1, max_samples=auto, n_estimators=200; total time=  10.1s\n",
            "[CV] END bootstrap=False, contamination=0.1, max_samples=auto, n_estimators=200; total time=   9.6s\n",
            "[CV] END bootstrap=False, contamination=0.1, max_samples=auto, n_estimators=200; total time=   9.0s\n",
            "[CV] END bootstrap=False, contamination=0.1, max_samples=auto, n_estimators=300; total time=  14.2s\n",
            "[CV] END bootstrap=False, contamination=0.1, max_samples=auto, n_estimators=300; total time=  14.3s\n",
            "[CV] END bootstrap=False, contamination=0.1, max_samples=auto, n_estimators=300; total time=  14.5s\n",
            "[CV] END bootstrap=False, contamination=0.1, max_samples=auto, n_estimators=300; total time=  14.1s\n",
            "[CV] END bootstrap=False, contamination=0.1, max_samples=auto, n_estimators=300; total time=  13.9s\n",
            "[CV] END bootstrap=False, contamination=0.15, max_samples=100, n_estimators=100; total time=   4.2s\n",
            "[CV] END bootstrap=False, contamination=0.15, max_samples=100, n_estimators=100; total time=   4.2s\n",
            "[CV] END bootstrap=False, contamination=0.15, max_samples=100, n_estimators=100; total time=   5.2s\n",
            "[CV] END bootstrap=False, contamination=0.15, max_samples=100, n_estimators=100; total time=   4.2s\n",
            "[CV] END bootstrap=False, contamination=0.15, max_samples=100, n_estimators=100; total time=   4.2s\n",
            "[CV] END bootstrap=False, contamination=0.15, max_samples=100, n_estimators=200; total time=   9.5s\n",
            "[CV] END bootstrap=False, contamination=0.15, max_samples=100, n_estimators=200; total time=   9.4s\n",
            "[CV] END bootstrap=False, contamination=0.15, max_samples=100, n_estimators=200; total time=   8.7s\n",
            "[CV] END bootstrap=False, contamination=0.15, max_samples=100, n_estimators=200; total time=   9.2s\n",
            "[CV] END bootstrap=False, contamination=0.15, max_samples=100, n_estimators=200; total time=   9.4s\n",
            "[CV] END bootstrap=False, contamination=0.15, max_samples=100, n_estimators=300; total time=  13.5s\n",
            "[CV] END bootstrap=False, contamination=0.15, max_samples=100, n_estimators=300; total time=  13.4s\n",
            "[CV] END bootstrap=False, contamination=0.15, max_samples=100, n_estimators=300; total time=  13.4s\n",
            "[CV] END bootstrap=False, contamination=0.15, max_samples=100, n_estimators=300; total time=  13.6s\n",
            "[CV] END bootstrap=False, contamination=0.15, max_samples=100, n_estimators=300; total time=  13.5s\n",
            "[CV] END bootstrap=False, contamination=0.15, max_samples=200, n_estimators=100; total time=   4.4s\n",
            "[CV] END bootstrap=False, contamination=0.15, max_samples=200, n_estimators=100; total time=   5.4s\n",
            "[CV] END bootstrap=False, contamination=0.15, max_samples=200, n_estimators=100; total time=   4.3s\n",
            "[CV] END bootstrap=False, contamination=0.15, max_samples=200, n_estimators=100; total time=   4.5s\n",
            "[CV] END bootstrap=False, contamination=0.15, max_samples=200, n_estimators=100; total time=   5.3s\n",
            "[CV] END bootstrap=False, contamination=0.15, max_samples=200, n_estimators=200; total time=   9.2s\n",
            "[CV] END bootstrap=False, contamination=0.15, max_samples=200, n_estimators=200; total time=   9.3s\n",
            "[CV] END bootstrap=False, contamination=0.15, max_samples=200, n_estimators=200; total time=   9.7s\n",
            "[CV] END bootstrap=False, contamination=0.15, max_samples=200, n_estimators=200; total time=   9.5s\n",
            "[CV] END bootstrap=False, contamination=0.15, max_samples=200, n_estimators=200; total time=   8.7s\n",
            "[CV] END bootstrap=False, contamination=0.15, max_samples=200, n_estimators=300; total time=  14.4s\n",
            "[CV] END bootstrap=False, contamination=0.15, max_samples=200, n_estimators=300; total time=  14.6s\n",
            "[CV] END bootstrap=False, contamination=0.15, max_samples=200, n_estimators=300; total time=  14.2s\n",
            "[CV] END bootstrap=False, contamination=0.15, max_samples=200, n_estimators=300; total time=  13.8s\n",
            "[CV] END bootstrap=False, contamination=0.15, max_samples=200, n_estimators=300; total time=  14.0s\n",
            "[CV] END bootstrap=False, contamination=0.15, max_samples=auto, n_estimators=100; total time=   4.4s\n",
            "[CV] END bootstrap=False, contamination=0.15, max_samples=auto, n_estimators=100; total time=   4.4s\n",
            "[CV] END bootstrap=False, contamination=0.15, max_samples=auto, n_estimators=100; total time=   5.4s\n",
            "[CV] END bootstrap=False, contamination=0.15, max_samples=auto, n_estimators=100; total time=   4.4s\n",
            "[CV] END bootstrap=False, contamination=0.15, max_samples=auto, n_estimators=100; total time=   4.9s\n",
            "[CV] END bootstrap=False, contamination=0.15, max_samples=auto, n_estimators=200; total time=   9.2s\n",
            "[CV] END bootstrap=False, contamination=0.15, max_samples=auto, n_estimators=200; total time=   9.6s\n",
            "[CV] END bootstrap=False, contamination=0.15, max_samples=auto, n_estimators=200; total time=   9.7s\n",
            "[CV] END bootstrap=False, contamination=0.15, max_samples=auto, n_estimators=200; total time=   8.6s\n",
            "[CV] END bootstrap=False, contamination=0.15, max_samples=auto, n_estimators=200; total time=  10.0s\n",
            "[CV] END bootstrap=False, contamination=0.15, max_samples=auto, n_estimators=300; total time=  14.5s\n",
            "[CV] END bootstrap=False, contamination=0.15, max_samples=auto, n_estimators=300; total time=  14.3s\n",
            "[CV] END bootstrap=False, contamination=0.15, max_samples=auto, n_estimators=300; total time=  14.5s\n",
            "[CV] END bootstrap=False, contamination=0.15, max_samples=auto, n_estimators=300; total time=  15.3s\n",
            "[CV] END bootstrap=False, contamination=0.15, max_samples=auto, n_estimators=300; total time=  15.0s\n",
            "Best parameters: {'bootstrap': True, 'contamination': 0.01, 'max_samples': 100, 'n_estimators': 100}\n"
          ]
        }
      ]
    },
    {
      "cell_type": "code",
      "source": [
        "from sklearn.ensemble import IsolationForest\n",
        "\n",
        "# Initialize the IsolationForest with the best parameters\n",
        "model = IsolationForest(bootstrap=True, contamination=0.01, max_samples=100, n_estimators=100, random_state=42)\n",
        "model.fit(X_train_scaled)\n",
        "\n",
        "# Predict on the test set\n",
        "predictions = model.predict(X_test_scaled)\n",
        "\n",
        "# Evaluate the model\n",
        "from sklearn.metrics import classification_report, accuracy_score\n",
        "predictions_converted = (predictions == -1).astype(int)\n",
        "print(\"Accuracy:\", accuracy_score(y_test_converted, predictions_converted))\n",
        "print(classification_report(y_test_converted, predictions_converted))\n"
      ],
      "metadata": {
        "colab": {
          "base_uri": "https://localhost:8080/"
        },
        "id": "waLKuYNndNB3",
        "outputId": "276fb06a-f609-4fef-f1f2-28afd211a566"
      },
      "execution_count": 24,
      "outputs": [
        {
          "output_type": "stream",
          "name": "stdout",
          "text": [
            "Accuracy: 0.5402262353641596\n",
            "              precision    recall  f1-score   support\n",
            "\n",
            "           0       0.54      1.00      0.70     13386\n",
            "           1       0.98      0.02      0.04     11809\n",
            "\n",
            "    accuracy                           0.54     25195\n",
            "   macro avg       0.76      0.51      0.37     25195\n",
            "weighted avg       0.75      0.54      0.39     25195\n",
            "\n"
          ]
        }
      ]
    },
    {
      "cell_type": "code",
      "source": [
        "model = IsolationForest(bootstrap=True, contamination=0.05, max_samples=100, n_estimators=100, random_state=42)\n",
        "model.fit(X_train_scaled)\n"
      ],
      "metadata": {
        "colab": {
          "base_uri": "https://localhost:8080/",
          "height": 91
        },
        "id": "AWXBl7POdjDl",
        "outputId": "9d5ddfab-e2f7-4d7a-d7fc-8abb82f6eb48"
      },
      "execution_count": 25,
      "outputs": [
        {
          "output_type": "execute_result",
          "data": {
            "text/plain": [
              "IsolationForest(bootstrap=True, contamination=0.05, max_samples=100,\n",
              "                random_state=42)"
            ],
            "text/html": [
              "<style>#sk-container-id-1 {color: black;background-color: white;}#sk-container-id-1 pre{padding: 0;}#sk-container-id-1 div.sk-toggleable {background-color: white;}#sk-container-id-1 label.sk-toggleable__label {cursor: pointer;display: block;width: 100%;margin-bottom: 0;padding: 0.3em;box-sizing: border-box;text-align: center;}#sk-container-id-1 label.sk-toggleable__label-arrow:before {content: \"▸\";float: left;margin-right: 0.25em;color: #696969;}#sk-container-id-1 label.sk-toggleable__label-arrow:hover:before {color: black;}#sk-container-id-1 div.sk-estimator:hover label.sk-toggleable__label-arrow:before {color: black;}#sk-container-id-1 div.sk-toggleable__content {max-height: 0;max-width: 0;overflow: hidden;text-align: left;background-color: #f0f8ff;}#sk-container-id-1 div.sk-toggleable__content pre {margin: 0.2em;color: black;border-radius: 0.25em;background-color: #f0f8ff;}#sk-container-id-1 input.sk-toggleable__control:checked~div.sk-toggleable__content {max-height: 200px;max-width: 100%;overflow: auto;}#sk-container-id-1 input.sk-toggleable__control:checked~label.sk-toggleable__label-arrow:before {content: \"▾\";}#sk-container-id-1 div.sk-estimator input.sk-toggleable__control:checked~label.sk-toggleable__label {background-color: #d4ebff;}#sk-container-id-1 div.sk-label input.sk-toggleable__control:checked~label.sk-toggleable__label {background-color: #d4ebff;}#sk-container-id-1 input.sk-hidden--visually {border: 0;clip: rect(1px 1px 1px 1px);clip: rect(1px, 1px, 1px, 1px);height: 1px;margin: -1px;overflow: hidden;padding: 0;position: absolute;width: 1px;}#sk-container-id-1 div.sk-estimator {font-family: monospace;background-color: #f0f8ff;border: 1px dotted black;border-radius: 0.25em;box-sizing: border-box;margin-bottom: 0.5em;}#sk-container-id-1 div.sk-estimator:hover {background-color: #d4ebff;}#sk-container-id-1 div.sk-parallel-item::after {content: \"\";width: 100%;border-bottom: 1px solid gray;flex-grow: 1;}#sk-container-id-1 div.sk-label:hover label.sk-toggleable__label {background-color: #d4ebff;}#sk-container-id-1 div.sk-serial::before {content: \"\";position: absolute;border-left: 1px solid gray;box-sizing: border-box;top: 0;bottom: 0;left: 50%;z-index: 0;}#sk-container-id-1 div.sk-serial {display: flex;flex-direction: column;align-items: center;background-color: white;padding-right: 0.2em;padding-left: 0.2em;position: relative;}#sk-container-id-1 div.sk-item {position: relative;z-index: 1;}#sk-container-id-1 div.sk-parallel {display: flex;align-items: stretch;justify-content: center;background-color: white;position: relative;}#sk-container-id-1 div.sk-item::before, #sk-container-id-1 div.sk-parallel-item::before {content: \"\";position: absolute;border-left: 1px solid gray;box-sizing: border-box;top: 0;bottom: 0;left: 50%;z-index: -1;}#sk-container-id-1 div.sk-parallel-item {display: flex;flex-direction: column;z-index: 1;position: relative;background-color: white;}#sk-container-id-1 div.sk-parallel-item:first-child::after {align-self: flex-end;width: 50%;}#sk-container-id-1 div.sk-parallel-item:last-child::after {align-self: flex-start;width: 50%;}#sk-container-id-1 div.sk-parallel-item:only-child::after {width: 0;}#sk-container-id-1 div.sk-dashed-wrapped {border: 1px dashed gray;margin: 0 0.4em 0.5em 0.4em;box-sizing: border-box;padding-bottom: 0.4em;background-color: white;}#sk-container-id-1 div.sk-label label {font-family: monospace;font-weight: bold;display: inline-block;line-height: 1.2em;}#sk-container-id-1 div.sk-label-container {text-align: center;}#sk-container-id-1 div.sk-container {/* jupyter's `normalize.less` sets `[hidden] { display: none; }` but bootstrap.min.css set `[hidden] { display: none !important; }` so we also need the `!important` here to be able to override the default hidden behavior on the sphinx rendered scikit-learn.org. See: https://github.com/scikit-learn/scikit-learn/issues/21755 */display: inline-block !important;position: relative;}#sk-container-id-1 div.sk-text-repr-fallback {display: none;}</style><div id=\"sk-container-id-1\" class=\"sk-top-container\"><div class=\"sk-text-repr-fallback\"><pre>IsolationForest(bootstrap=True, contamination=0.05, max_samples=100,\n",
              "                random_state=42)</pre><b>In a Jupyter environment, please rerun this cell to show the HTML representation or trust the notebook. <br />On GitHub, the HTML representation is unable to render, please try loading this page with nbviewer.org.</b></div><div class=\"sk-container\" hidden><div class=\"sk-item\"><div class=\"sk-estimator sk-toggleable\"><input class=\"sk-toggleable__control sk-hidden--visually\" id=\"sk-estimator-id-1\" type=\"checkbox\" checked><label for=\"sk-estimator-id-1\" class=\"sk-toggleable__label sk-toggleable__label-arrow\">IsolationForest</label><div class=\"sk-toggleable__content\"><pre>IsolationForest(bootstrap=True, contamination=0.05, max_samples=100,\n",
              "                random_state=42)</pre></div></div></div></div></div>"
            ]
          },
          "metadata": {},
          "execution_count": 25
        }
      ]
    },
    {
      "cell_type": "code",
      "source": [
        "scores = model.decision_function(X_test_scaled)\n",
        "threshold = np.percentile(scores, 10)  # Adjust this percentile to change sensitivity\n",
        "predictions = (scores < threshold).astype(int)\n"
      ],
      "metadata": {
        "id": "zt4rWb6vdqPj"
      },
      "execution_count": 34,
      "outputs": []
    },
    {
      "cell_type": "code",
      "source": [
        "scores = model.decision_function(X_test_scaled)\n",
        "threshold = np.percentile(scores, 10)  # Adjust this percentile to change sensitivity\n",
        "predictions = (scores < threshold).astype(int)\n",
        "\n",
        "\n",
        "\n",
        "\n",
        "\n",
        "\n",
        "model = IsolationForest(bootstrap=True, contamination=0.05, max_samples=100, n_estimators=100, random_state=42)\n",
        "model.fit(X_train_scaled)\n",
        "predictions = model.predict(X_test_scaled)\n",
        "predictions_converted = (predictions == -1).astype(int)\n",
        "\n",
        "print(\"Adjusted Accuracy:\", accuracy_score(y_test_converted, predictions_converted))\n",
        "print(classification_report(y_test_converted, predictions_converted))\n"
      ],
      "metadata": {
        "colab": {
          "base_uri": "https://localhost:8080/"
        },
        "id": "96x_tl36dwLk",
        "outputId": "ce9c9af1-96b6-4eac-dec4-5747b10d3903"
      },
      "execution_count": 36,
      "outputs": [
        {
          "output_type": "stream",
          "name": "stdout",
          "text": [
            "Adjusted Accuracy: 0.5540781901170867\n",
            "              precision    recall  f1-score   support\n",
            "\n",
            "           0       0.54      0.97      0.70     13386\n",
            "           1       0.73      0.08      0.14     11809\n",
            "\n",
            "    accuracy                           0.55     25195\n",
            "   macro avg       0.64      0.53      0.42     25195\n",
            "weighted avg       0.63      0.55      0.44     25195\n",
            "\n"
          ]
        }
      ]
    },
    {
      "cell_type": "code",
      "source": [
        "import matplotlib.pyplot as plt\n",
        "\n",
        "scores = model.decision_function(X_test_scaled)\n",
        "plt.hist(scores, bins=50)\n",
        "plt.title('Distribution of Decision Scores')\n",
        "plt.show()\n"
      ],
      "metadata": {
        "colab": {
          "base_uri": "https://localhost:8080/",
          "height": 452
        },
        "id": "7NJpPmC4fB5V",
        "outputId": "3d3bdfc6-d33c-487e-f8d8-b09db41b5ca9"
      },
      "execution_count": 37,
      "outputs": [
        {
          "output_type": "display_data",
          "data": {
            "text/plain": [
              "<Figure size 640x480 with 1 Axes>"
            ],
            "image/png": "[encoded data removed]"
          },
          "metadata": {}
        }
      ]
    },
    {
      "cell_type": "code",
      "source": [
        "# Example: Manually set threshold based on observed scores\n",
        "threshold = -0.1  # Adjust based on histogram\n",
        "predictions = (scores < threshold).astype(int)\n"
      ],
      "metadata": {
        "id": "nAmXjbNwfHty"
      },
      "execution_count": 38,
      "outputs": []
    },
    {
      "cell_type": "code",
      "source": [
        "from sklearn.metrics import precision_score, recall_score, f1_score\n"
      ],
      "metadata": {
        "id": "n6rW-KXofWUE"
      },
      "execution_count": 40,
      "outputs": []
    },
    {
      "cell_type": "code",
      "source": [
        "thresholds = np.linspace(scores.min(), scores.max(), 100)\n",
        "precisions, recalls, f1_scores = [], [], []\n",
        "for th in thresholds:\n",
        "    preds = (scores < th).astype(int)\n",
        "    precisions.append(precision_score(y_test_converted, preds))\n",
        "    recalls.append(recall_score(y_test_converted, preds))\n",
        "    f1_scores.append(f1_score(y_test_converted, preds))\n",
        "\n",
        "plt.plot(thresholds, precisions, label='Precision')\n",
        "plt.plot(thresholds, recalls, label='Recall')\n",
        "plt.plot(thresholds, f1_scores, label='F1 Score')\n",
        "plt.legend()\n",
        "plt.xlabel('Threshold')\n",
        "plt.ylabel('Performance Metrics')\n",
        "plt.title('Threshold vs. Performance Metrics')\n",
        "plt.show()\n"
      ],
      "metadata": {
        "colab": {
          "base_uri": "https://localhost:8080/",
          "height": 472
        },
        "id": "fLsLv2bufKjG",
        "outputId": "dc72a541-d049-4c8e-ba48-5c9b50297cea"
      },
      "execution_count": 41,
      "outputs": [
        {
          "output_type": "display_data",
          "data": {
            "text/plain": [
              "<Figure size 640x480 with 1 Axes>"
            ],
            "image/png": "[encoded data removed]"
          },
          "metadata": {}
        }
      ]
    },
    {
      "cell_type": "code",
      "source": [
        "import numpy as np\n",
        "import matplotlib.pyplot as plt\n",
        "from sklearn.metrics import precision_score, recall_score, f1_score\n",
        "\n",
        "# Assuming 'scores' is already defined as the output from the decision function\n",
        "thresholds = np.linspace(scores.min(), scores.max(), 100)\n",
        "precisions, recalls, f1_scores = [], [], []\n",
        "\n",
        "for th in thresholds:\n",
        "    preds = (scores < th).astype(int)\n",
        "    precisions.append(precision_score(y_test_converted, preds))\n",
        "    recalls.append(recall_score(y_test_converted, preds))\n",
        "    f1_scores.append(f1_score(y_test_converted, preds))\n",
        "\n",
        "# Plotting the results\n",
        "plt.figure(figsize=(10, 6))\n",
        "plt.plot(thresholds, precisions, label='Precision')\n",
        "plt.plot(thresholds, recalls, label='Recall')\n",
        "plt.plot(thresholds, f1_scores, label='F1 Score')\n",
        "plt.legend()\n",
        "plt.xlabel('Threshold')\n",
        "plt.ylabel('Performance Metrics')\n",
        "plt.title('Threshold vs. Performance Metrics')\n",
        "plt.show()\n"
      ],
      "metadata": {
        "colab": {
          "base_uri": "https://localhost:8080/",
          "height": 564
        },
        "id": "ULzKmI_nfaoC",
        "outputId": "38d83c0e-4092-4070-da9d-368bc8b4ced2"
      },
      "execution_count": 42,
      "outputs": [
        {
          "output_type": "display_data",
          "data": {
            "text/plain": [
              "<Figure size 1000x600 with 1 Axes>"
            ],
            "image/png": "[encoded data removed]"
          },
          "metadata": {}
        }
      ]
    },
    {
      "cell_type": "code",
      "source": [
        "optimal_threshold = 0.05\n",
        "optimal_predictions = (scores < optimal_threshold).astype(int)\n",
        "print(\"Precision at Optimal Threshold:\", precision_score(y_test_converted, optimal_predictions))\n",
        "print(\"Recall at Optimal Threshold:\", recall_score(y_test_converted, optimal_predictions))\n",
        "print(\"F1 Score at Optimal Threshold:\", f1_score(y_test_converted, optimal_predictions))\n"
      ],
      "metadata": {
        "colab": {
          "base_uri": "https://localhost:8080/"
        },
        "id": "mkeqIXaGf9Me",
        "outputId": "b376ae8c-14d6-4086-86bc-c6e107fe95fd"
      },
      "execution_count": 43,
      "outputs": [
        {
          "output_type": "stream",
          "name": "stdout",
          "text": [
            "Precision at Optimal Threshold: 0.7233433974257111\n",
            "Recall at Optimal Threshold: 0.38546871030569907\n",
            "F1 Score at Optimal Threshold: 0.5029278532758812\n"
          ]
        }
      ]
    },
    {
      "cell_type": "code",
      "source": [
        "from sklearn.metrics import accuracy_score\n",
        "\n",
        "# Assuming 'optimal_predictions' contains your model predictions at the optimal threshold\n",
        "accuracy = accuracy_score(y_test_converted, optimal_predictions)\n",
        "print(\"Accuracy at Optimal Threshold:\", accuracy)\n"
      ],
      "metadata": {
        "colab": {
          "base_uri": "https://localhost:8080/"
        },
        "id": "gyHxwwZrgJkC",
        "outputId": "93cacac1-0b61-4bd1-a97e-3e5ce26c3a57"
      },
      "execution_count": 44,
      "outputs": [
        {
          "output_type": "stream",
          "name": "stdout",
          "text": [
            "Accuracy at Optimal Threshold: 0.6428656479460211\n"
          ]
        }
      ]
    },
    {
      "cell_type": "code",
      "source": [
        "# Recalculate predictions with the optimal threshold\n",
        "optimal_threshold = 0.05\n",
        "optimal_predictions = (scores < optimal_threshold).astype(int)\n",
        "\n",
        "# Calculate accuracy\n",
        "accuracy = accuracy_score(y_test_converted, optimal_predictions)\n",
        "print(\"Accuracy at Optimal Threshold:\", accuracy)\n"
      ],
      "metadata": {
        "colab": {
          "base_uri": "https://localhost:8080/"
        },
        "id": "UuvSqDA9gNhr",
        "outputId": "4c5700c3-de86-4f66-d9ef-c624b452e2fa"
      },
      "execution_count": 45,
      "outputs": [
        {
          "output_type": "stream",
          "name": "stdout",
          "text": [
            "Accuracy at Optimal Threshold: 0.6428656479460211\n"
          ]
        }
      ]
    },
    {
      "cell_type": "code",
      "source": [
        "from sklearn.metrics import precision_score, recall_score, f1_score, accuracy_score, confusion_matrix, classification_report\n",
        "\n",
        "# Assuming 'optimal_predictions' contains your predictions at the optimal threshold\n",
        "precision = precision_score(y_test_converted, optimal_predictions)\n",
        "recall = recall_score(y_test_converted, optimal_predictions)\n",
        "f1 = f1_score(y_test_converted, optimal_predictions)\n",
        "accuracy = accuracy_score(y_test_converted, optimal_predictions)\n",
        "\n",
        "print(\"Precision: {:.2f}\".format(precision))\n",
        "print(\"Recall: {:.2f}\".format(recall))\n",
        "print(\"F1 Score: {:.2f}\".format(f1))\n",
        "print(\"Accuracy: {:.2f}\".format(accuracy))\n"
      ],
      "metadata": {
        "colab": {
          "base_uri": "https://localhost:8080/"
        },
        "id": "abK8FR-HgkA7",
        "outputId": "d82618f3-5903-44c9-988e-5996859081c6"
      },
      "execution_count": 46,
      "outputs": [
        {
          "output_type": "stream",
          "name": "stdout",
          "text": [
            "Precision: 0.72\n",
            "Recall: 0.39\n",
            "F1 Score: 0.50\n",
            "Accuracy: 0.64\n"
          ]
        }
      ]
    },
    {
      "cell_type": "code",
      "source": [
        "import seaborn as sns\n",
        "import matplotlib.pyplot as plt\n",
        "\n",
        "# Calculate confusion matrix\n",
        "cm = confusion_matrix(y_test_converted, optimal_predictions)\n",
        "\n",
        "# Plot confusion matrix\n",
        "plt.figure(figsize=(8, 6))\n",
        "sns.heatmap(cm, annot=True, fmt=\"d\", cmap='Blues', xticklabels=['Normal', 'Anomaly'], yticklabels=['Normal', 'Anomaly'])\n",
        "plt.title('Confusion Matrix')\n",
        "plt.ylabel('Actual Class')\n",
        "plt.xlabel('Predicted Class')\n",
        "plt.show()\n"
      ],
      "metadata": {
        "colab": {
          "base_uri": "https://localhost:8080/",
          "height": 564
        },
        "id": "3KE4aDnOgoNW",
        "outputId": "abac51b8-0cb5-4fe9-ef0f-54882513c4b0"
      },
      "execution_count": 47,
      "outputs": [
        {
          "output_type": "display_data",
          "data": {
            "text/plain": [
              "<Figure size 800x600 with 2 Axes>"
            ],
            "image/png": "[encoded data removed]"
          },
          "metadata": {}
        }
      ]
    },
    {
      "cell_type": "code",
      "source": [
        "# Generate a classification report\n",
        "report = classification_report(y_test_converted, optimal_predictions, target_names=['Normal', 'Anomaly'])\n",
        "print(report)\n"
      ],
      "metadata": {
        "colab": {
          "base_uri": "https://localhost:8080/"
        },
        "id": "tL_vkRrPgtjn",
        "outputId": "a442f72c-9ef6-4a8c-a298-e12ed0cba3e1"
      },
      "execution_count": 48,
      "outputs": [
        {
          "output_type": "stream",
          "name": "stdout",
          "text": [
            "              precision    recall  f1-score   support\n",
            "\n",
            "      Normal       0.62      0.87      0.72     13386\n",
            "     Anomaly       0.72      0.39      0.50     11809\n",
            "\n",
            "    accuracy                           0.64     25195\n",
            "   macro avg       0.67      0.63      0.61     25195\n",
            "weighted avg       0.67      0.64      0.62     25195\n",
            "\n"
          ]
        }
      ]
    }
  ]
}